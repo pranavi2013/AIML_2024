{
  "nbformat": 4,
  "nbformat_minor": 0,
  "metadata": {
    "colab": {
      "provenance": [],
      "authorship_tag": "ABX9TyPtG0wGG4mSDnBpjJEFze7J",
      "include_colab_link": true
    },
    "kernelspec": {
      "name": "python3",
      "display_name": "Python 3"
    },
    "language_info": {
      "name": "python"
    }
  },
  "cells": [
    {
      "cell_type": "markdown",
      "metadata": {
        "id": "view-in-github",
        "colab_type": "text"
      },
      "source": [
        "<a href=\"https://colab.research.google.com/github/pranavi2013/AIML_2024/blob/main/lab_7.ipynb\" target=\"_parent\"><img src=\"https://colab.research.google.com/assets/colab-badge.svg\" alt=\"Open In Colab\"/></a>"
      ]
    },
    {
      "cell_type": "code",
      "source": [
        "import pandas as pd\n",
        "\n",
        "# Load the dataset\n",
        "data = pd.read_csv('/content/data.csv')\n",
        "\n",
        "# Drop columns with all NaN values (if any)\n",
        "data.dropna(axis=1, how='all', inplace=True)\n",
        "\n",
        "# Drop rows with any NaN values\n",
        "data.dropna(inplace=True)\n",
        "\n",
        "# Extract features and target\n",
        "X = data.drop(['diagnosis'], axis=1)  # Features\n",
        "y = data['diagnosis']  # Target\n",
        "\n",
        "# Display the cleaned dataset\n",
        "print(\"Cleaned Dataset:\")\n",
        "print(data.head())\n",
        "\n",
        "# Extract features and target\n",
        "X = data.drop(['diagnosis'], axis=1)  # Features\n",
        "y = data['diagnosis']  # Target\n",
        "\n",
        "# Display the cleaned dataset\n",
        "print(\"Cleaned Dataset:\")\n",
        "print(data.head())"
      ],
      "metadata": {
        "id": "lIKDMrbXxg57"
      },
      "execution_count": null,
      "outputs": []
    },
    {
      "cell_type": "code",
      "source": [
        "# Importing libraries\n",
        "import numpy as np\n",
        "import pandas as pd\n",
        "import matplotlib.pyplot as plt\n",
        "import seaborn as sns\n",
        "from sklearn import datasets\n",
        "from sklearn.model_selection import train_test_split\n",
        "from sklearn.preprocessing import StandardScaler\n",
        "from sklearn.svm import SVC\n",
        "from sklearn.metrics import accuracy_score, classification_report, confusion_matrix\n",
        "\n",
        "# Setting styles for seaborn\n",
        "sns.set(style=\"whitegrid\")\n"
      ],
      "metadata": {
        "id": "6rBwM4R8xwDn"
      },
      "execution_count": null,
      "outputs": []
    },
    {
      "cell_type": "code",
      "source": [
        "from sklearn.datasets import load_breast_cancer\n",
        "\n",
        "# Load Breast Cancer dataset\n",
        "breast_cancer = load_breast_cancer()\n",
        "\n",
        "# Prepare dictionary format to access the data using keys\n",
        "data_dict = {\n",
        "    'data': breast_cancer.data,\n",
        "    'target': breast_cancer.target,\n",
        "    'feature_names': breast_cancer.feature_names,\n",
        "    'target_names': breast_cancer.target_names\n",
        "}"
      ],
      "metadata": {
        "id": "rOTIC4sZx8D9"
      },
      "execution_count": null,
      "outputs": []
    },
    {
      "cell_type": "code",
      "source": [
        "# Describe feature names\n",
        "print(\"Feature Names:\")\n",
        "for i, feature_name in enumerate(data_dict['feature_names']):\n",
        "    print(f\"{i+1}. {feature_name}\")"
      ],
      "metadata": {
        "id": "Y59SksHtx9AX"
      },
      "execution_count": null,
      "outputs": []
    },
    {
      "cell_type": "code",
      "source": [
        "import pandas as pd\n",
        "\n",
        "# Create DataFrame\n",
        "df = pd.DataFrame(data_dict['data'], columns=data_dict['feature_names'])\n",
        "\n",
        "# Add target column to DataFrame\n",
        "df['target'] = data_dict['target']\n",
        "\n",
        "# Describe DataFrame\n",
        "print(\"\\nDataFrame Details:\")\n",
        "print(df.info())\n",
        "\n",
        "# Check for missing values\n",
        "print(\"\\nMissing Values:\")\n",
        "print(df.isnull().sum())\n"
      ],
      "metadata": {
        "id": "ry-_TKwAyE-S"
      },
      "execution_count": null,
      "outputs": []
    },
    {
      "cell_type": "code",
      "source": [
        "import pandas as pd\n",
        "\n",
        "# Create DataFrame\n",
        "df = pd.DataFrame(data_dict['data'], columns=data_dict['feature_names'])\n",
        "\n",
        "# Add target column to DataFrame\n",
        "df['target'] = data_dict['target']\n",
        "\n",
        "# Describe DataFrame\n",
        "print(\"\\nDataFrame Details:\")\n",
        "print(df.info())\n",
        "\n",
        "# Check for missing values\n",
        "print(\"\\nMissing Values:\")\n",
        "print(df.isnull().sum())\n"
      ],
      "metadata": {
        "id": "bHH0swsTyIkY"
      },
      "execution_count": null,
      "outputs": []
    },
    {
      "cell_type": "code",
      "source": [
        "from sklearn.model_selection import train_test_split\n",
        "\n",
        "# Drop the target column and define DataFrame with only target results\n",
        "X = df.drop('target', axis=1)  # Features\n",
        "y = df['target']  # Target\n",
        "\n",
        "# Split the data into train and test sets\n",
        "X_train, X_test, y_train, y_test = train_test_split(X, y, test_size=0.2, random_state=42)\n",
        "\n",
        "# Print the shapes of train and test sets\n",
        "print(\"Shape of X_train:\", X_train.shape)\n",
        "print(\"Shape of y_train:\", y_train.shape)\n",
        "print(\"Shape of X_test:\", X_test.shape)\n",
        "print(\"Shape of y_test:\", y_test.shape)\n"
      ],
      "metadata": {
        "id": "FNEZ02JGyPSv"
      },
      "execution_count": null,
      "outputs": []
    },
    {
      "cell_type": "code",
      "source": [
        "from sklearn.model_selection import train_test_split\n",
        "\n",
        "# Drop the target column and define DataFrame with only target results\n",
        "X = df.drop('target', axis=1)  # Features\n",
        "y = df['target']  # Target\n",
        "\n",
        "# Split the data into train and test sets\n",
        "X_train, X_test, y_train, y_test = train_test_split(X, y, test_size=0.2, random_state=42)\n",
        "\n",
        "# Print the shapes of train and test sets\n",
        "print(\"Shape of X_train:\", X_train.shape)\n",
        "print(\"Shape of y_train:\", y_train.shape)\n",
        "print(\"Shape of X_test:\", X_test.shape)\n",
        "print(\"Shape of y_test:\", y_test.shape)\n"
      ],
      "metadata": {
        "id": "zz-Ud4yryR67"
      },
      "execution_count": null,
      "outputs": []
    },
    {
      "cell_type": "code",
      "source": [
        "from sklearn.metrics import classification_report, confusion_matrix\n",
        "\n",
        "# Predict the target labels for the test dataset\n",
        "y_pred = svc_model.predict(X_test)\n",
        "\n",
        "# Generate classification report\n",
        "print(\"Classification Report:\")\n",
        "print(classification_report(y_test, y_pred))\n",
        "\n",
        "# Generate confusion matrix\n",
        "print(\"\\nConfusion Matrix:\")\n",
        "print(confusion_matrix(y_test, y_pred))\n"
      ],
      "metadata": {
        "id": "fPtP1qhbyXjS"
      },
      "execution_count": null,
      "outputs": []
    },
    {
      "cell_type": "code",
      "source": [
        "from sklearn.model_selection import GridSearchCV\n",
        "\n",
        "# Define the parameter grid\n",
        "param_grid = {'C': [0.1, 1, 10, 100, 1000],\n",
        "              'gamma': [1, 0.1, 0.01, 0.001, 0.0001],\n",
        "              'kernel': ['rbf']}\n",
        "\n",
        "# Create an instance of SVC\n",
        "svc = SVC()\n",
        "\n",
        "# Create GridSearchCV object\n",
        "grid_search = GridSearchCV(svc, param_grid, cv=5, scoring='accuracy', verbose=1)\n",
        "\n",
        "# Fit the GridSearchCV object to the training dataset\n",
        "grid_search.fit(X_train, y_train)\n",
        "\n",
        "# Get the best parameters and the best score\n",
        "best_params = grid_search.best_params_\n",
        "best_score = grid_search.best_score_\n",
        "\n",
        "print(\"Best Parameters:\", best_params)\n",
        "print(\"Best Score:\", best_score)\n",
        "\n",
        "# Predict the target labels for the test dataset using the best estimator\n",
        "best_svc_model = grid_search.best_estimator_\n",
        "y_pred_grid = best_svc_model.predict(X_test)\n",
        "\n",
        "# Generate classification report\n",
        "print(\"\\nClassification Report:\")\n",
        "print(classification_report(y_test, y_pred_grid))\n",
        "\n",
        "# Generate confusion matrix\n",
        "print(\"\\nConfusion Matrix:\")\n",
        "print(confusion_matrix(y_test, y_pred_grid))\n"
      ],
      "metadata": {
        "id": "rbuH4XFHycXw"
      },
      "execution_count": null,
      "outputs": []
    }
  ]
}