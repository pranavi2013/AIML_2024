{
  "nbformat": 4,
  "nbformat_minor": 0,
  "metadata": {
    "colab": {
      "provenance": [],
      "authorship_tag": "ABX9TyNoPnXT71hzzuqn1yTk7X0G",
      "include_colab_link": true
    },
    "kernelspec": {
      "name": "python3",
      "display_name": "Python 3"
    },
    "language_info": {
      "name": "python"
    }
  },
  "cells": [
    {
      "cell_type": "markdown",
      "metadata": {
        "id": "view-in-github",
        "colab_type": "text"
      },
      "source": [
        "<a href=\"https://colab.research.google.com/github/pranavi2013/AIML_2024/blob/main/lab_1_part_1.ipynb\" target=\"_parent\"><img src=\"https://colab.research.google.com/assets/colab-badge.svg\" alt=\"Open In Colab\"/></a>"
      ]
    },
    {
      "cell_type": "code",
      "source": [
        "import numpy as np\n",
        "list1=[2,0,1,3]\n",
        "n1=np.array(list1)\n",
        "print(\"list1\",list1)\n",
        "print(\"n1\",n1)\n",
        "print(\"type=\",type(n1))\n",
        "print(\"type=\",type(list1))"
      ],
      "metadata": {
        "colab": {
          "base_uri": "https://localhost:8080/"
        },
        "id": "H7DH8MzhER6X",
        "outputId": "bd56f641-d745-455e-bd0a-0d95dec63d0b"
      },
      "execution_count": null,
      "outputs": [
        {
          "output_type": "stream",
          "name": "stdout",
          "text": [
            "list1 [2, 0, 1, 3]\n",
            "n1 [2 0 1 3]\n",
            "type= <class 'numpy.ndarray'>\n",
            "type= <class 'list'>\n"
          ]
        }
      ]
    },
    {
      "cell_type": "code",
      "source": [
        "import numpy as np\n",
        "arr1=(21,22,23,24)\n",
        "arr2=(21,22,23,24)\n",
        "mul=np.multiply(arr1,arr2)\n",
        "print(mul)\n",
        "div=np.divide(arr1,arr2)\n",
        "print(div)\n",
        "pow=np.power(arr1,arr2)\n",
        "print(pow)"
      ],
      "metadata": {
        "colab": {
          "base_uri": "https://localhost:8080/"
        },
        "id": "-oZ3KwaXEdYo",
        "outputId": "5a844b73-e3a4-427d-d762-44cb66071ce1"
      },
      "execution_count": null,
      "outputs": [
        {
          "output_type": "stream",
          "name": "stdout",
          "text": [
            "[441 484 529 576]\n",
            "[1. 1. 1. 1.]\n",
            "[-1595931050845505211  4981753131911086080  8450172506621111015\n",
            "                    0]\n"
          ]
        }
      ]
    },
    {
      "cell_type": "code",
      "source": [
        "data1 = np.array([3, 5, 7, 9, 11])\n",
        "data2 =np.array( [3, 4, 5, 6, 7])\n",
        "print(\"addition of two array:\",data1+data2)"
      ],
      "metadata": {
        "colab": {
          "base_uri": "https://localhost:8080/"
        },
        "id": "KZBa6RASEubv",
        "outputId": "1b2d45ce-f1e5-4297-a0d1-97dc97c4906b"
      },
      "execution_count": null,
      "outputs": [
        {
          "output_type": "stream",
          "name": "stdout",
          "text": [
            "addition of two array: [ 6  9 12 15 18]\n"
          ]
        }
      ]
    },
    {
      "cell_type": "code",
      "source": [
        "print(np.sin(list1))\n",
        "print(np.log(list1))\n",
        "print(np.log2(list1))\n",
        "print(np.exp(list1))"
      ],
      "metadata": {
        "colab": {
          "base_uri": "https://localhost:8080/"
        },
        "id": "RDq0dl3wFA0j",
        "outputId": "eaa263b9-cc95-42ce-c9b4-1d76b4335885"
      },
      "execution_count": null,
      "outputs": [
        {
          "output_type": "stream",
          "name": "stdout",
          "text": [
            "[0.90929743 0.         0.84147098 0.14112001]\n",
            "[0.69314718       -inf 0.         1.09861229]\n",
            "[1.             -inf 0.        1.5849625]\n",
            "[ 7.3890561   1.          2.71828183 20.08553692]\n"
          ]
        },
        {
          "output_type": "stream",
          "name": "stderr",
          "text": [
            "<ipython-input-6-6fb3c9e0b03b>:2: RuntimeWarning: divide by zero encountered in log\n",
            "  print(np.log(list1))\n",
            "<ipython-input-6-6fb3c9e0b03b>:3: RuntimeWarning: divide by zero encountered in log2\n",
            "  print(np.log2(list1))\n"
          ]
        }
      ]
    },
    {
      "cell_type": "code",
      "source": [],
      "metadata": {
        "id": "h0bmc-1qFExa"
      },
      "execution_count": null,
      "outputs": []
    }
  ]
}