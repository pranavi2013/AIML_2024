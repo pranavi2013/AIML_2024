{
  "nbformat": 4,
  "nbformat_minor": 0,
  "metadata": {
    "colab": {
      "provenance": [],
      "authorship_tag": "ABX9TyOF03QHqTNDBjbdYKARRuav",
      "include_colab_link": true
    },
    "kernelspec": {
      "name": "python3",
      "display_name": "Python 3"
    },
    "language_info": {
      "name": "python"
    }
  },
  "cells": [
    {
      "cell_type": "markdown",
      "metadata": {
        "id": "view-in-github",
        "colab_type": "text"
      },
      "source": [
        "<a href=\"https://colab.research.google.com/github/pranavi2013/AIML_2024/blob/main/lab_1_part_3.ipynb\" target=\"_parent\"><img src=\"https://colab.research.google.com/assets/colab-badge.svg\" alt=\"Open In Colab\"/></a>"
      ]
    },
    {
      "cell_type": "code",
      "execution_count": null,
      "metadata": {
        "colab": {
          "base_uri": "https://localhost:8080/"
        },
        "id": "3V-kC3BEKFnn",
        "outputId": "c522625c-a739-440f-9fe4-9466850b8948"
      },
      "outputs": [
        {
          "output_type": "stream",
          "name": "stdout",
          "text": [
            "     people  age  height  weight\n",
            "0     rohan   29     135      42\n",
            "1     arush   33     171      75\n",
            "2     vinay   35     177      35\n",
            "3  varshith   48     134      65\n"
          ]
        }
      ],
      "source": [
        "import pandas as pd\n",
        "df='/content/lab1.csv'\n",
        "data=pd.read_csv(df)\n",
        "print(data)"
      ]
    },
    {
      "cell_type": "code",
      "source": [
        "import pandas as pd\n",
        "df='/content/sample-1.tsv'\n",
        "data=pd.read_csv(df,delimiter='\\t')\n",
        "print(data)"
      ],
      "metadata": {
        "colab": {
          "base_uri": "https://localhost:8080/"
        },
        "id": "ntHMdAXRLrSL",
        "outputId": "7b866780-a466-47b2-b514-d000d360981a"
      },
      "execution_count": null,
      "outputs": [
        {
          "output_type": "stream",
          "name": "stdout",
          "text": [
            "    Unnamed: 0 Unnamed: 1 Unnamed: 2 Unnamed: 3 Unnamed: 4 Unnamed: 5  \\\n",
            "0          NaN    JANUARY        NaN        NaN        NaN        NaN   \n",
            "1          NaN          S          M          T          W          T   \n",
            "2          NaN        NaN        NaN        NaN        NaN        NaN   \n",
            "3          NaN          2          3          4          5          6   \n",
            "4          NaN          9         10         11         12         13   \n",
            "5          NaN         16         17         18         19         20   \n",
            "6          NaN         23         24         25         26         27   \n",
            "7          NaN         30         31        NaN        NaN        NaN   \n",
            "8          NaN        NaN        NaN        NaN        NaN        NaN   \n",
            "9          NaN     APRIL         NaN        NaN        NaN        NaN   \n",
            "10         NaN          S          M          T          W          T   \n",
            "11         NaN        NaN        NaN        NaN        NaN        NaN   \n",
            "12         NaN          3          4          5          6          7   \n",
            "13         NaN         10         11         12         13         14   \n",
            "14         NaN         17         18         19         20         21   \n",
            "15         NaN         24         25         26         27         28   \n",
            "16         NaN        NaN        NaN        NaN        NaN        NaN   \n",
            "17         NaN        NaN        NaN        NaN        NaN        NaN   \n",
            "18         NaN       JULY        NaN        NaN        NaN        NaN   \n",
            "19         NaN          S          M          T          W          T   \n",
            "20         NaN        NaN        NaN        NaN        NaN        NaN   \n",
            "21         NaN          3          4          5          6          7   \n",
            "22         NaN         10         11         12         13         14   \n",
            "23         NaN         17         18         19         20         21   \n",
            "24         NaN         24         25         26         27         28   \n",
            "25         NaN         31        NaN        NaN        NaN        NaN   \n",
            "26         NaN        NaN        NaN        NaN        NaN        NaN   \n",
            "27         NaN    OCTOBER        NaN        NaN        NaN        NaN   \n",
            "28         NaN          S          M          T          W          T   \n",
            "29         NaN        NaN        NaN        NaN        NaN        NaN   \n",
            "30         NaN          2          3          4          5          6   \n",
            "31         NaN          9         10         11         12         13   \n",
            "32         NaN         16         17         18         19         20   \n",
            "33         NaN         23         24         25         26         27   \n",
            "34         NaN         30         31        NaN        NaN        NaN   \n",
            "\n",
            "   Unnamed: 6 Unnamed: 7  Unnamed: 8 Unnamed: 9  ... Unnamed: 17 Unnamed: 18  \\\n",
            "0         NaN        NaN         NaN   FEBRUARY  ...       MARCH         NaN   \n",
            "1           F          S         NaN          S  ...           S           M   \n",
            "2         NaN          1         NaN        NaN  ...         NaN         NaN   \n",
            "3           7          8         NaN          6  ...           6           7   \n",
            "4          14         15         NaN         13  ...          13          14   \n",
            "5          21         22         NaN         20  ...          20          21   \n",
            "6          28         29         NaN         27  ...          27          28   \n",
            "7         NaN        NaN         NaN        NaN  ...         NaN         NaN   \n",
            "8         NaN        NaN         NaN        NaN  ...         NaN         NaN   \n",
            "9         NaN        NaN         NaN        MAY  ...        JUNE         NaN   \n",
            "10          F          S         NaN          S  ...           S           M   \n",
            "11          1          2         NaN          1  ...         NaN         NaN   \n",
            "12          8          9         NaN          8  ...           5           6   \n",
            "13         15         16         NaN         15  ...          12          13   \n",
            "14         22         23         NaN         22  ...          19          20   \n",
            "15         29         30         NaN         29  ...          26          27   \n",
            "16        NaN        NaN         NaN        NaN  ...         NaN         NaN   \n",
            "17        NaN        NaN         NaN        NaN  ...         NaN         NaN   \n",
            "18        NaN        NaN         NaN     AUGUST  ...   SEPTEMBER         NaN   \n",
            "19          F          S         NaN          S  ...           S           M   \n",
            "20          1          2         NaN        NaN  ...         NaN         NaN   \n",
            "21          8          9         NaN          7  ...           4           5   \n",
            "22         15         16         NaN         14  ...          11          12   \n",
            "23         22         23         NaN         21  ...          18          19   \n",
            "24         29         30         NaN         28  ...          25          26   \n",
            "25        NaN        NaN         NaN        NaN  ...         NaN         NaN   \n",
            "26        NaN        NaN         NaN        NaN  ...         NaN         NaN   \n",
            "27        NaN        NaN         NaN   NOVEMBER  ...    DECEMBER         NaN   \n",
            "28          F          S         NaN          S  ...           S           M   \n",
            "29        NaN          1         NaN        NaN  ...         NaN         NaN   \n",
            "30          7          8         NaN          6  ...           4           5   \n",
            "31         14         15         NaN         13  ...          11          12   \n",
            "32         21         22         NaN         20  ...          18          19   \n",
            "33         28         29         NaN         27  ...          25          26   \n",
            "34        NaN        NaN         NaN        NaN  ...         NaN         NaN   \n",
            "\n",
            "   Unnamed: 19 Unnamed: 20 Unnamed: 21 Unnamed: 22  Unnamed: 23 Unnamed: 24  \\\n",
            "0          NaN         NaN         NaN         NaN          NaN         NaN   \n",
            "1            T           W           T           F            S         NaN   \n",
            "2            1           2           3           4            5         NaN   \n",
            "3            8           9          10          11           12         NaN   \n",
            "4           15          16          17          18           19         NaN   \n",
            "5           22          23          24          25           26         NaN   \n",
            "6           29          30          31         NaN          NaN         NaN   \n",
            "7          NaN         NaN         NaN         NaN          NaN         NaN   \n",
            "8          NaN         NaN         NaN         NaN          NaN         NaN   \n",
            "9          NaN         NaN         NaN         NaN          NaN         NaN   \n",
            "10           T           W           T           F            S         NaN   \n",
            "11         NaN           1           2           3            4         NaN   \n",
            "12           7           8           9          10           11         NaN   \n",
            "13          14          15          16          17           18         NaN   \n",
            "14          21          22          23          24           25         NaN   \n",
            "15          28          29          30         NaN          NaN         NaN   \n",
            "16         NaN         NaN         NaN         NaN          NaN         NaN   \n",
            "17         NaN         NaN         NaN         NaN          NaN         NaN   \n",
            "18         NaN         NaN         NaN         NaN          NaN         NaN   \n",
            "19           T           W           T           F            S         NaN   \n",
            "20         NaN         NaN           1           2            3         NaN   \n",
            "21           6           7           8           9           10         NaN   \n",
            "22          13          14          15          16           17         NaN   \n",
            "23          20          21          22          23           24         NaN   \n",
            "24          27          28          29          30          NaN         NaN   \n",
            "25         NaN         NaN         NaN         NaN          NaN         NaN   \n",
            "26         NaN         NaN         NaN         NaN          NaN         NaN   \n",
            "27         NaN         NaN         NaN         NaN          NaN         NaN   \n",
            "28           T           W           T           F            S         NaN   \n",
            "29         NaN         NaN           1           2            3         NaN   \n",
            "30           6           7           8           9           10         NaN   \n",
            "31          13          14          15          16           17         NaN   \n",
            "32          20          21          22          23           24         NaN   \n",
            "33          27          28          29          30           31         NaN   \n",
            "34         NaN         NaN         NaN         NaN          NaN         NaN   \n",
            "\n",
            "   2022 Create more with themes              Go to  Format  >> Theme  \n",
            "0   NaN                                                NaN            \n",
            "1   NaN                                                NaN            \n",
            "2   NaN                                                NaN            \n",
            "3   NaN                                                NaN            \n",
            "4   NaN                                                NaN            \n",
            "5   NaN                                                NaN            \n",
            "6   NaN                                                NaN            \n",
            "7   NaN                                                NaN            \n",
            "8   NaN                                                NaN            \n",
            "9   NaN                                                NaN            \n",
            "10  NaN                                                NaN            \n",
            "11  NaN                                                NaN            \n",
            "12  NaN                                                NaN            \n",
            "13  NaN                                                NaN            \n",
            "14  NaN                                                NaN            \n",
            "15  NaN                                                NaN            \n",
            "16  NaN                                                NaN            \n",
            "17  NaN                                                NaN            \n",
            "18  NaN                                                NaN            \n",
            "19  NaN                                                NaN            \n",
            "20  NaN                                                NaN            \n",
            "21  NaN                                                NaN            \n",
            "22  NaN                                                NaN            \n",
            "23  NaN                                                NaN            \n",
            "24  NaN                                                NaN            \n",
            "25  NaN                                                NaN            \n",
            "26  NaN                                                NaN            \n",
            "27  NaN                                                NaN            \n",
            "28  NaN                                                NaN            \n",
            "29  NaN                                                NaN            \n",
            "30  NaN                                                NaN            \n",
            "31  NaN                                                NaN            \n",
            "32  NaN                                                NaN            \n",
            "33  NaN                                                NaN            \n",
            "34  NaN                                                NaN            \n",
            "\n",
            "[35 rows x 27 columns]\n"
          ]
        }
      ]
    },
    {
      "cell_type": "code",
      "source": [
        "import pandas as pd\n",
        "df='/content/lab1.xlsl.xlsx'\n",
        "data=pd.read_excel(df)\n",
        "print(data)"
      ],
      "metadata": {
        "colab": {
          "base_uri": "https://localhost:8080/"
        },
        "id": "Vd298eykNVAZ",
        "outputId": "536f63ff-0fdb-44d3-f4e2-6000acbc453b"
      },
      "execution_count": null,
      "outputs": [
        {
          "output_type": "stream",
          "name": "stdout",
          "text": [
            "     people  age  height  weight\n",
            "0     rohan   29     135      42\n",
            "1     arush   33     171      75\n",
            "2     vinay   35     177      35\n",
            "3  varshith   48     134      65\n"
          ]
        }
      ]
    }
  ]
}