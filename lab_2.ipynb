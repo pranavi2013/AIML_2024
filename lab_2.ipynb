{
  "nbformat": 4,
  "nbformat_minor": 0,
  "metadata": {
    "colab": {
      "provenance": [],
      "mount_file_id": "17SY4Gx1sMeNVQMaqIaoqdLwSIcPrEvRL",
      "authorship_tag": "ABX9TyMhqq+x9cIOxGnC+VZ2Cov7",
      "include_colab_link": true
    },
    "kernelspec": {
      "name": "python3",
      "display_name": "Python 3"
    },
    "language_info": {
      "name": "python"
    }
  },
  "cells": [
    {
      "cell_type": "markdown",
      "metadata": {
        "id": "view-in-github",
        "colab_type": "text"
      },
      "source": [
        "<a href=\"https://colab.research.google.com/github/pranavi2013/AIML_2024/blob/main/lab_2.ipynb\" target=\"_parent\"><img src=\"https://colab.research.google.com/assets/colab-badge.svg\" alt=\"Open In Colab\"/></a>"
      ]
    },
    {
      "cell_type": "code",
      "execution_count": null,
      "metadata": {
        "id": "WKD49OOsmARA",
        "colab": {
          "base_uri": "https://localhost:8080/"
        },
        "outputId": "5dea0116-1d52-44d7-a789-2ae5457d9feb"
      },
      "outputs": [
        {
          "output_type": "stream",
          "name": "stdout",
          "text": [
            "1 0 2 3 5 4 "
          ]
        }
      ],
      "source": [
        "import collections\n",
        "def bfs(graph, start):\n",
        "  visited = set()\n",
        "  queue = collections.deque([start])\n",
        "  visited.add(start)\n",
        "  while queue:\n",
        "    node = queue.popleft()\n",
        "    print(node, end=\" \")\n",
        "    neighbours = graph[node]\n",
        "    for neighbour in neighbours:\n",
        "      if neighbour not in visited:\n",
        "        visited.add(neighbour)\n",
        "        queue.append(neighbour)\n",
        "graph = {\n",
        "  0: [1],\n",
        "  1: [0, 2, 3],\n",
        "  2: [1, 5],\n",
        "  3: [1, 4],\n",
        "  4: [3, 5],\n",
        "  5: [2, 4]\n",
        "}\n",
        "bfs(graph,1)"
      ]
    },
    {
      "cell_type": "code",
      "source": [
        "import collections\n",
        "def dfs(graph, start):\n",
        "  visited = set()\n",
        "  stack = collections.deque([start])\n",
        "  visited.add(start)\n",
        "  while stack:\n",
        "    node = stack.pop()\n",
        "    print(node, end=\" \")\n",
        "    neighbours = graph[node]\n",
        "    for neighbour in neighbours:\n",
        "      if neighbour not in visited:\n",
        "        visited.add(neighbour)\n",
        "        stack.append(neighbour)\n",
        "graph = {\n",
        "  \"S\": [\"A\", \"C\", \"G\"],\n",
        "  \"A\": [\"B\"],\n",
        "  \"B\": [],\n",
        "  \"C\": [\"D\", \"F\"],\n",
        "  \"D\": [],\n",
        "  \"E\": [],\n",
        "  \"F\": [\"E\", \"H\"],\n",
        "  \"G\": [],\n",
        "  \"H\": []\n",
        "}\n",
        "dfs(graph,\"S\")"
      ],
      "metadata": {
        "colab": {
          "base_uri": "https://localhost:8080/"
        },
        "id": "w3ngueOPeBnR",
        "outputId": "93e13cbe-79a4-4b9e-ccb0-43b000e0d123"
      },
      "execution_count": null,
      "outputs": [
        {
          "output_type": "stream",
          "name": "stdout",
          "text": [
            "S G C F H E D A B "
          ]
        }
      ]
    }
  ]
}