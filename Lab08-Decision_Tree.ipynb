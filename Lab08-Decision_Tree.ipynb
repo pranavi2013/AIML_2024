{
 "cells": [
  {
   "cell_type": "markdown",
   "id": "7c5ba4fe",
   "metadata": {
    "id": "7c5ba4fe"
   },
   "source": [
    "<a name='0'></a>\n",
    "# 8. Decision Trees - Classification"
   ]
  },
  {
   "cell_type": "markdown",
   "id": "07494ffb",
   "metadata": {
    "id": "07494ffb"
   },
   "source": [
    "Decision Trees are supervised machine learning algorithms that are used for both regression and classification tasks. Trees are powerful algorithms that can handle complex datasets.\n",
    "\n",
    "In the previous notebook, we learnt to predict the continous values with decision trees (regression). This notebook is for classification.\n",
    "\n",
    "Different to other algorithms, here are two things that trees are very particular about:\n",
    "\n",
    "Here are 7 interesting facts about decision trees:\n",
    "\n",
    "* They do not need the numerical input data to be scaled. Whatever the numerical values are, decision trees don't care.\n",
    "\n",
    "* Decision trees handle categorical features in the raw text format (Scikit-Learn doesn't support this, TensorFlow's trees implementation does).\n",
    "\n",
    "* Different to other complex learning algorithms, the results of decision trees can be interpreted. It's fair to say that decision trees are not blackbox type models.\n",
    "* While most models will suffer from missing values, decision trees are okay with them.\n",
    "* Trees can handle imbalanced datasets. You will only have to adjust the weights of the classes.\n",
    "* Trees can provide the feature importances or how much each feature contributed to the model training results.\n",
    "* Trees are the basic building blocks of ensemble methods such as random forests and gradient boosting machines.\n",
    "\n",
    "The way decision trees works is like the series of if/else questions. Let's say that you want to make a decision of the car to buy. In order to get the right car to buy, you could go on and evaluate the level of the safety, the number of sits and doors by asking series of if like questions.\n",
    "\n",
    "Here is the structure of the decision trees.\n",
    "\n",
    "![Decision Trees.png](https://cdn.hashnode.com/res/hashnode/image/upload/v1632212349927/4XijLSXib.png)\n",
    "\n",
    "\n",
    "A well-known downside of decision trees is that they tend to overfit the data easily(pretty much assumed they will always overfit at first). One way to overcome overfitting is to reduce the maximum depth of the decision tree (refered to as `max_depth`hyperparameter) in decision trees. We will see other techniques to avoid overfitting."
   ]
  },
  {
   "cell_type": "markdown",
   "id": "d4e2c5a6",
   "metadata": {
    "id": "d4e2c5a6"
   },
   "source": [
    "## Decision Trees for Classification"
   ]
  },
  {
   "cell_type": "markdown",
   "id": "ae5e8372",
   "metadata": {
    "id": "ae5e8372"
   },
   "source": [
    "### Contents\n",
    "\n",
    "* [1 - Imports](#1)\n",
    "* [2 - Loading the data](#2)\n",
    "* [3 - Exploratory Analysis](#3)\n",
    "* [4 - Preprocessing the data](#4)\n",
    "* [5 - Training Decision Trees](#5)\n",
    "* [6 - Evaluating Decision Trees](#6)\n",
    "* [7 - Improving Decision Trees](#7)"
   ]
  },
  {
   "cell_type": "markdown",
   "id": "99058d12",
   "metadata": {
    "id": "99058d12"
   },
   "source": [
    "<a name='1'></a>\n",
    "## 1 - Imports"
   ]
  },
  {
   "cell_type": "code",
   "execution_count": 14,
   "id": "df278c5f",
   "metadata": {
    "id": "df278c5f"
   },
   "outputs": [],
   "source": [
    "import numpy as np\n",
    "import pandas as pd\n",
    "import seaborn as sns\n",
    "import sklearn\n",
    "import matplotlib.pyplot as plt\n",
    "%matplotlib inline"
   ]
  },
  {
   "cell_type": "markdown",
   "id": "35699c38",
   "metadata": {
    "id": "35699c38"
   },
   "source": [
    "<a name='2'></a>\n",
    "\n",
    "## 2 - Loading the data\n",
    "\n",
    "In this classification task with decision trees, we will use a car dataset that is avilable at [OpenML](https://www.openml.org/d/21) to predict the car acceptability given the information about the car. We will load it with Sklearn `fetch_openml` function.\n",
    "\n",
    "The version of the data we are fetching is 2. In the version 1 of the dataset, the target class had 4 classes (unacc, acc, good, vgood) but in the second version, the majority class is Positive(P) whereas the rest are Negative(P). If you want to see version 1, you can change version parameter in a cell below.\n",
    "\n",
    "\n",
    "Here are the informations about the features:\n",
    "\n",
    "* *buying*: The buying price of the car(vhigh, high, med, low)\n",
    "* maint: The maintainance price of the car(high, high, med, low)\n",
    "* *doors*: The number of doors (2,3,4,5more)\n",
    "* *persons*: The number of persons that can be carried the car. They are 2, 4, and more.\n",
    "* *lug_boot*: The size of the luggage boot (small, med, big)\n",
    "* *safety*: Estimated safefy of the car(low, med, high)\n",
    "* *BinaryClass(target feature)*: The car acceptability class. Either positive(P) or negative(N).\n"
   ]
  },
  {
   "cell_type": "code",
   "execution_count": 15,
   "id": "d3083946",
   "metadata": {
    "id": "d3083946"
   },
   "outputs": [],
   "source": [
    "from sklearn.datasets import fetch_openml\n",
    "\n",
    "car_data = fetch_openml(name='car', version=2, parser='auto')"
   ]
  },
  {
   "cell_type": "code",
   "execution_count": 16,
   "id": "46c09852",
   "metadata": {
    "id": "46c09852",
    "outputId": "cbf7a97a-7dc6-471e-fea4-b8a5ad18b580"
   },
   "outputs": [
    {
     "data": {
      "text/plain": [
       "sklearn.utils._bunch.Bunch"
      ]
     },
     "execution_count": 16,
     "metadata": {},
     "output_type": "execute_result"
    }
   ],
   "source": [
    "type(car_data)"
   ]
  },
  {
   "cell_type": "code",
   "execution_count": 17,
   "id": "154ed67e",
   "metadata": {
    "id": "154ed67e",
    "outputId": "53865f9d-39aa-4d39-fe72-0556c3a8919a"
   },
   "outputs": [
    {
     "data": {
      "text/plain": [
       "{'id': '991',\n",
       " 'name': 'car',\n",
       " 'version': '2',\n",
       " 'description_version': '1',\n",
       " 'format': 'ARFF',\n",
       " 'upload_date': '2014-10-04T22:44:31',\n",
       " 'licence': 'Public',\n",
       " 'url': 'https://api.openml.org/data/v1/download/53525/car.arff',\n",
       " 'parquet_url': 'https://openml1.win.tue.nl/datasets/0000/0991/dataset_991.pq',\n",
       " 'file_id': '53525',\n",
       " 'default_target_attribute': 'binaryClass',\n",
       " 'tag': ['Chemistry',\n",
       "  'derived',\n",
       "  'Life Science',\n",
       "  'mythbusting_1',\n",
       "  'study_1',\n",
       "  'study_15',\n",
       "  'study_20',\n",
       "  'study_41',\n",
       "  'study_7'],\n",
       " 'visibility': 'public',\n",
       " 'minio_url': 'https://openml1.win.tue.nl/datasets/0000/0991/dataset_991.pq',\n",
       " 'status': 'active',\n",
       " 'processing_date': '2020-11-20 20:17:54',\n",
       " 'md5_checksum': '49c57b793eef1b8e55f297e5e019fdbf'}"
      ]
     },
     "execution_count": 17,
     "metadata": {},
     "output_type": "execute_result"
    }
   ],
   "source": [
    "car_data.details"
   ]
  },
  {
   "cell_type": "code",
   "execution_count": 18,
   "id": "d93da4ad",
   "metadata": {
    "id": "d93da4ad",
    "outputId": "be501bb1-dcbf-44c5-86e5-d71b5d39536e"
   },
   "outputs": [
    {
     "data": {
      "text/plain": [
       "'2'"
      ]
     },
     "execution_count": 18,
     "metadata": {},
     "output_type": "execute_result"
    }
   ],
   "source": [
    "car_data.details['version']"
   ]
  },
  {
   "cell_type": "code",
   "execution_count": 19,
   "id": "69e438fb",
   "metadata": {
    "id": "69e438fb",
    "outputId": "9eda874a-73e2-4b58-db59-3461a403c1a4"
   },
   "outputs": [
    {
     "name": "stdout",
     "output_type": "stream",
     "text": [
      "**Author**:   \n",
      "**Source**: Unknown - Date unknown  \n",
      "**Please cite**:   \n",
      "\n",
      "Binarized version of the original data set (see version 1). The multi-class target feature is converted to a two-class nominal target feature by re-labeling the majority class as positive ('P') and all others as negative ('N'). Originally converted by Quan Sun.\n",
      "\n",
      "Downloaded from openml.org.\n"
     ]
    }
   ],
   "source": [
    "# Data description\n",
    "\n",
    "print(car_data.DESCR)"
   ]
  },
  {
   "cell_type": "code",
   "execution_count": 20,
   "id": "d7180991",
   "metadata": {
    "id": "d7180991",
    "outputId": "e53774fa-b693-4acc-ca49-7109e9c403be"
   },
   "outputs": [
    {
     "data": {
      "text/plain": [
       "['buying', 'maint', 'doors', 'persons', 'lug_boot', 'safety']"
      ]
     },
     "execution_count": 20,
     "metadata": {},
     "output_type": "execute_result"
    }
   ],
   "source": [
    "# Displaying feature names\n",
    "\n",
    "car_data.feature_names"
   ]
  },
  {
   "cell_type": "code",
   "execution_count": 21,
   "id": "e3ba092e",
   "metadata": {
    "id": "e3ba092e",
    "outputId": "fbec6d90-ffc4-4623-e935-d20f805590e9"
   },
   "outputs": [
    {
     "data": {
      "text/html": [
       "<div>\n",
       "<style scoped>\n",
       "    .dataframe tbody tr th:only-of-type {\n",
       "        vertical-align: middle;\n",
       "    }\n",
       "\n",
       "    .dataframe tbody tr th {\n",
       "        vertical-align: top;\n",
       "    }\n",
       "\n",
       "    .dataframe thead th {\n",
       "        text-align: right;\n",
       "    }\n",
       "</style>\n",
       "<table border=\"1\" class=\"dataframe\">\n",
       "  <thead>\n",
       "    <tr style=\"text-align: right;\">\n",
       "      <th></th>\n",
       "      <th>buying</th>\n",
       "      <th>maint</th>\n",
       "      <th>doors</th>\n",
       "      <th>persons</th>\n",
       "      <th>lug_boot</th>\n",
       "      <th>safety</th>\n",
       "      <th>binaryClass</th>\n",
       "    </tr>\n",
       "  </thead>\n",
       "  <tbody>\n",
       "    <tr>\n",
       "      <th>0</th>\n",
       "      <td>vhigh</td>\n",
       "      <td>vhigh</td>\n",
       "      <td>2</td>\n",
       "      <td>2</td>\n",
       "      <td>small</td>\n",
       "      <td>low</td>\n",
       "      <td>P</td>\n",
       "    </tr>\n",
       "    <tr>\n",
       "      <th>1</th>\n",
       "      <td>vhigh</td>\n",
       "      <td>vhigh</td>\n",
       "      <td>2</td>\n",
       "      <td>2</td>\n",
       "      <td>small</td>\n",
       "      <td>med</td>\n",
       "      <td>P</td>\n",
       "    </tr>\n",
       "    <tr>\n",
       "      <th>2</th>\n",
       "      <td>vhigh</td>\n",
       "      <td>vhigh</td>\n",
       "      <td>2</td>\n",
       "      <td>2</td>\n",
       "      <td>small</td>\n",
       "      <td>high</td>\n",
       "      <td>P</td>\n",
       "    </tr>\n",
       "    <tr>\n",
       "      <th>3</th>\n",
       "      <td>vhigh</td>\n",
       "      <td>vhigh</td>\n",
       "      <td>2</td>\n",
       "      <td>2</td>\n",
       "      <td>med</td>\n",
       "      <td>low</td>\n",
       "      <td>P</td>\n",
       "    </tr>\n",
       "    <tr>\n",
       "      <th>4</th>\n",
       "      <td>vhigh</td>\n",
       "      <td>vhigh</td>\n",
       "      <td>2</td>\n",
       "      <td>2</td>\n",
       "      <td>med</td>\n",
       "      <td>med</td>\n",
       "      <td>P</td>\n",
       "    </tr>\n",
       "  </tbody>\n",
       "</table>\n",
       "</div>"
      ],
      "text/plain": [
       "  buying  maint doors persons lug_boot safety binaryClass\n",
       "0  vhigh  vhigh     2       2    small    low           P\n",
       "1  vhigh  vhigh     2       2    small    med           P\n",
       "2  vhigh  vhigh     2       2    small   high           P\n",
       "3  vhigh  vhigh     2       2      med    low           P\n",
       "4  vhigh  vhigh     2       2      med    med           P"
      ]
     },
     "execution_count": 21,
     "metadata": {},
     "output_type": "execute_result"
    }
   ],
   "source": [
    "# Getting the whole dataframe\n",
    "\n",
    "car_data = car_data.frame\n",
    "car_data.head()"
   ]
  },
  {
   "cell_type": "code",
   "execution_count": 22,
   "id": "2f05b049",
   "metadata": {
    "id": "2f05b049",
    "outputId": "af51271f-1a5a-4cf7-f18d-2d0eb7d52772"
   },
   "outputs": [
    {
     "data": {
      "text/plain": [
       "pandas.core.frame.DataFrame"
      ]
     },
     "execution_count": 22,
     "metadata": {},
     "output_type": "execute_result"
    }
   ],
   "source": [
    "type(car_data)"
   ]
  },
  {
   "cell_type": "markdown",
   "id": "c492fd93",
   "metadata": {
    "id": "c492fd93"
   },
   "source": [
    "<a name='3'></a>\n",
    "## 3 - Exploratory Analysis\n"
   ]
  },
  {
   "cell_type": "markdown",
   "id": "e9906083",
   "metadata": {
    "id": "e9906083"
   },
   "source": [
    "Before doing exploratory analysis, let's get the training and test data."
   ]
  },
  {
   "cell_type": "markdown",
   "id": "dff2de1d",
   "metadata": {
    "id": "dff2de1d"
   },
   "source": [
    "### Splitting Data into Training and Test sets"
   ]
  },
  {
   "cell_type": "code",
   "execution_count": 23,
   "id": "98d74144",
   "metadata": {
    "id": "98d74144",
    "outputId": "0c2c589c-7abd-4ab2-b0ac-2b752231421e"
   },
   "outputs": [
    {
     "name": "stdout",
     "output_type": "stream",
     "text": [
      "The size of training data is: 1209\n",
      "The size of testing data is: 519\n"
     ]
    }
   ],
   "source": [
    "from sklearn.model_selection import train_test_split\n",
    "\n",
    "train_data, test_data = train_test_split(car_data, test_size=0.3, \n",
    "                                         random_state=20)\n",
    "\n",
    "print('The size of training data is: {}\\n\n",
    "The size of testing data is: {}'.format(len(train_data),\n",
    "                                        len(test_data)))"
   ]
  },
  {
   "cell_type": "markdown",
   "id": "ab1127e7",
   "metadata": {
    "id": "ab1127e7"
   },
   "source": [
    "### Checking Summary Statistics"
   ]
  },
  {
   "cell_type": "code",
   "execution_count": 24,
   "id": "753bb539",
   "metadata": {
    "id": "753bb539",
    "outputId": "33cb8584-89c6-41d6-af0e-a17b17b19347"
   },
   "outputs": [
    {
     "data": {
      "text/html": [
       "<div>\n",
       "<style scoped>\n",
       "    .dataframe tbody tr th:only-of-type {\n",
       "        vertical-align: middle;\n",
       "    }\n",
       "\n",
       "    .dataframe tbody tr th {\n",
       "        vertical-align: top;\n",
       "    }\n",
       "\n",
       "    .dataframe thead th {\n",
       "        text-align: right;\n",
       "    }\n",
       "</style>\n",
       "<table border=\"1\" class=\"dataframe\">\n",
       "  <thead>\n",
       "    <tr style=\"text-align: right;\">\n",
       "      <th></th>\n",
       "      <th>buying</th>\n",
       "      <th>maint</th>\n",
       "      <th>doors</th>\n",
       "      <th>persons</th>\n",
       "      <th>lug_boot</th>\n",
       "      <th>safety</th>\n",
       "      <th>binaryClass</th>\n",
       "    </tr>\n",
       "  </thead>\n",
       "  <tbody>\n",
       "    <tr>\n",
       "      <th>count</th>\n",
       "      <td>1209</td>\n",
       "      <td>1209</td>\n",
       "      <td>1209</td>\n",
       "      <td>1209</td>\n",
       "      <td>1209</td>\n",
       "      <td>1209</td>\n",
       "      <td>1209</td>\n",
       "    </tr>\n",
       "    <tr>\n",
       "      <th>unique</th>\n",
       "      <td>4</td>\n",
       "      <td>4</td>\n",
       "      <td>4</td>\n",
       "      <td>3</td>\n",
       "      <td>3</td>\n",
       "      <td>3</td>\n",
       "      <td>2</td>\n",
       "    </tr>\n",
       "    <tr>\n",
       "      <th>top</th>\n",
       "      <td>med</td>\n",
       "      <td>high</td>\n",
       "      <td>5more</td>\n",
       "      <td>more</td>\n",
       "      <td>big</td>\n",
       "      <td>med</td>\n",
       "      <td>P</td>\n",
       "    </tr>\n",
       "    <tr>\n",
       "      <th>freq</th>\n",
       "      <td>327</td>\n",
       "      <td>311</td>\n",
       "      <td>319</td>\n",
       "      <td>418</td>\n",
       "      <td>411</td>\n",
       "      <td>406</td>\n",
       "      <td>849</td>\n",
       "    </tr>\n",
       "  </tbody>\n",
       "</table>\n",
       "</div>"
      ],
      "text/plain": [
       "       buying maint  doors persons lug_boot safety binaryClass\n",
       "count    1209  1209   1209    1209     1209   1209        1209\n",
       "unique      4     4      4       3        3      3           2\n",
       "top       med  high  5more    more      big    med           P\n",
       "freq      327   311    319     418      411    406         849"
      ]
     },
     "execution_count": 24,
     "metadata": {},
     "output_type": "execute_result"
    }
   ],
   "source": [
    "# Checking summary statistics\n",
    "\n",
    "train_data.describe()"
   ]
  },
  {
   "cell_type": "markdown",
   "id": "dd6e747c",
   "metadata": {
    "id": "dd6e747c"
   },
   "source": [
    "### Checking Missing Values"
   ]
  },
  {
   "cell_type": "code",
   "execution_count": 25,
   "id": "f0e4fb67",
   "metadata": {
    "id": "f0e4fb67",
    "outputId": "0c51ac8b-ae6a-4124-f979-63e9ae9d9c6f"
   },
   "outputs": [
    {
     "data": {
      "text/plain": [
       "buying         0\n",
       "maint          0\n",
       "doors          0\n",
       "persons        0\n",
       "lug_boot       0\n",
       "safety         0\n",
       "binaryClass    0\n",
       "dtype: int64"
      ]
     },
     "execution_count": 25,
     "metadata": {},
     "output_type": "execute_result"
    }
   ],
   "source": [
    "# Checking missing values\n",
    "train_data.isnull().sum()"
   ]
  },
  {
   "cell_type": "markdown",
   "id": "4977a1a1",
   "metadata": {
    "id": "4977a1a1"
   },
   "source": [
    "We don't have any missing values."
   ]
  },
  {
   "cell_type": "markdown",
   "id": "5da8fe66",
   "metadata": {
    "id": "5da8fe66"
   },
   "source": [
    "### Checking Categorical Features"
   ]
  },
  {
   "cell_type": "markdown",
   "id": "ff90081a",
   "metadata": {
    "id": "ff90081a"
   },
   "source": [
    "Let's inspect some categorical features that are in the\n",
    "<br>dataset, almost all . Let's see that!"
   ]
  },
  {
   "cell_type": "code",
   "execution_count": 26,
   "id": "7c5e465c",
   "metadata": {
    "id": "7c5e465c",
    "outputId": "92501440-ec27-4f2a-bfd6-af3471fdb22b"
   },
   "outputs": [
    {
     "data": {
      "text/plain": [
       "med      327\n",
       "high     307\n",
       "vhigh    291\n",
       "low      284\n",
       "Name: buying, dtype: int64"
      ]
     },
     "execution_count": 26,
     "metadata": {},
     "output_type": "execute_result"
    }
   ],
   "source": [
    "train_data['buying'].value_counts()"
   ]
  },
  {
   "cell_type": "code",
   "execution_count": 27,
   "id": "20c2bde6",
   "metadata": {},
   "outputs": [
    {
     "data": {
      "text/plain": [
       "high     311\n",
       "med      311\n",
       "vhigh    294\n",
       "low      293\n",
       "Name: maint, dtype: int64"
      ]
     },
     "execution_count": 27,
     "metadata": {},
     "output_type": "execute_result"
    }
   ],
   "source": [
    "train_data['maint'].value_counts()"
   ]
  },
  {
   "cell_type": "code",
   "execution_count": 28,
   "id": "029946b7",
   "metadata": {},
   "outputs": [
    {
     "data": {
      "text/plain": [
       "5more    319\n",
       "2        312\n",
       "4        296\n",
       "3        282\n",
       "Name: doors, dtype: int64"
      ]
     },
     "execution_count": 28,
     "metadata": {},
     "output_type": "execute_result"
    }
   ],
   "source": [
    "train_data['doors'].value_counts()"
   ]
  },
  {
   "cell_type": "code",
   "execution_count": 29,
   "id": "e53ec2fa",
   "metadata": {},
   "outputs": [
    {
     "data": {
      "text/plain": [
       "more    418\n",
       "2       407\n",
       "4       384\n",
       "Name: persons, dtype: int64"
      ]
     },
     "execution_count": 29,
     "metadata": {},
     "output_type": "execute_result"
    }
   ],
   "source": [
    "train_data['persons'].value_counts()"
   ]
  },
  {
   "cell_type": "code",
   "execution_count": 30,
   "id": "d88aefd8",
   "metadata": {
    "id": "d88aefd8",
    "outputId": "8e03f5b4-eb18-437c-e4dc-7f5d0e941e2b"
   },
   "outputs": [
    {
     "data": {
      "text/plain": [
       "<AxesSubplot:xlabel='buying', ylabel='count'>"
      ]
     },
     "execution_count": 30,
     "metadata": {},
     "output_type": "execute_result"
    },
    {
     "data": {
      "image/png": "[encoded data removed]",
      "text/plain": [
       "<Figure size 1080x720 with 1 Axes>"
      ]
     },
     "metadata": {
      "needs_background": "light"
     },
     "output_type": "display_data"
    }
   ],
   "source": [
    "plt.figure(figsize=(15,10))\n",
    "sns.countplot(data=train_data, x='buying')"
   ]
  },
  {
   "cell_type": "code",
   "execution_count": 31,
   "id": "83d9f295",
   "metadata": {
    "id": "83d9f295",
    "outputId": "9a03c9c1-3cfe-4d9c-ce51-82b108e0fd6d"
   },
   "outputs": [
    {
     "data": {
      "text/plain": [
       "<AxesSubplot:xlabel='buying', ylabel='count'>"
      ]
     },
     "execution_count": 31,
     "metadata": {},
     "output_type": "execute_result"
    },
    {
     "data": {
      "image/png": "[encoded data removed]",
      "text/plain": [
       "<Figure size 1080x720 with 1 Axes>"
      ]
     },
     "metadata": {
      "needs_background": "light"
     },
     "output_type": "display_data"
    }
   ],
   "source": [
    "plt.figure(figsize=(15,10))\n",
    "sns.countplot(data=train_data, x='buying', hue='binaryClass')"
   ]
  },
  {
   "cell_type": "markdown",
   "id": "2a986c09",
   "metadata": {
    "id": "2a986c09"
   },
   "source": [
    "As you can see above, the majority class in the buying price is median(`med`)."
   ]
  },
  {
   "cell_type": "code",
   "execution_count": 32,
   "id": "dc1eadb0",
   "metadata": {
    "id": "dc1eadb0",
    "outputId": "8b6d2765-0003-4091-ea77-ea338513331a"
   },
   "outputs": [
    {
     "data": {
      "text/plain": [
       "high     311\n",
       "med      311\n",
       "vhigh    294\n",
       "low      293\n",
       "Name: maint, dtype: int64"
      ]
     },
     "execution_count": 32,
     "metadata": {},
     "output_type": "execute_result"
    }
   ],
   "source": [
    "train_data['maint'].value_counts()"
   ]
  },
  {
   "cell_type": "code",
   "execution_count": 33,
   "id": "433c25f4",
   "metadata": {
    "id": "433c25f4",
    "outputId": "349dc2de-93c3-4cff-b6eb-deadc1ad2f20"
   },
   "outputs": [
    {
     "data": {
      "text/plain": [
       "<AxesSubplot:xlabel='maint', ylabel='count'>"
      ]
     },
     "execution_count": 33,
     "metadata": {},
     "output_type": "execute_result"
    },
    {
     "data": {
      "image/png": "[encoded data removed]",
      "text/plain": [
       "<Figure size 1080x720 with 1 Axes>"
      ]
     },
     "metadata": {
      "needs_background": "light"
     },
     "output_type": "display_data"
    }
   ],
   "source": [
    "plt.figure(figsize=(15,10))\n",
    "sns.countplot(data=train_data, x='maint')"
   ]
  },
  {
   "cell_type": "code",
   "execution_count": 34,
   "id": "110b9abd",
   "metadata": {
    "id": "110b9abd",
    "outputId": "aeea7d08-d8a3-4b6c-d41c-1f573ccaa4c7"
   },
   "outputs": [
    {
     "data": {
      "text/plain": [
       "<AxesSubplot:xlabel='maint', ylabel='count'>"
      ]
     },
     "execution_count": 34,
     "metadata": {},
     "output_type": "execute_result"
    },
    {
     "data": {
      "image/png": "[encoded data removed]",
      "text/plain": [
       "<Figure size 1080x720 with 1 Axes>"
      ]
     },
     "metadata": {
      "needs_background": "light"
     },
     "output_type": "display_data"
    }
   ],
   "source": [
    "plt.figure(figsize=(15,10))\n",
    "sns.countplot(data=train_data, x='maint', hue='binaryClass')"
   ]
  },
  {
   "cell_type": "markdown",
   "id": "b1b2c63b",
   "metadata": {
    "id": "b1b2c63b"
   },
   "source": [
    "Let's also check what's in doors."
   ]
  },
  {
   "cell_type": "code",
   "execution_count": 35,
   "id": "4298a48f",
   "metadata": {
    "id": "4298a48f",
    "outputId": "d96b04c6-adfc-44cb-dd45-444ed227f128"
   },
   "outputs": [
    {
     "data": {
      "text/plain": [
       "5more    319\n",
       "2        312\n",
       "4        296\n",
       "3        282\n",
       "Name: doors, dtype: int64"
      ]
     },
     "execution_count": 35,
     "metadata": {},
     "output_type": "execute_result"
    }
   ],
   "source": [
    "train_data['doors'].value_counts()"
   ]
  },
  {
   "cell_type": "code",
   "execution_count": 36,
   "id": "477a5113",
   "metadata": {
    "id": "477a5113",
    "outputId": "9573a2c5-a467-4ea2-d114-dd121cc04374"
   },
   "outputs": [
    {
     "data": {
      "text/plain": [
       "<AxesSubplot:xlabel='doors', ylabel='count'>"
      ]
     },
     "execution_count": 36,
     "metadata": {},
     "output_type": "execute_result"
    },
    {
     "data": {
      "image/png": "[encoded data removed]",
      "text/plain": [
       "<Figure size 1080x720 with 1 Axes>"
      ]
     },
     "metadata": {
      "needs_background": "light"
     },
     "output_type": "display_data"
    }
   ],
   "source": [
    "plt.figure(figsize=(15,10))\n",
    "sns.countplot(data=train_data, x='doors')"
   ]
  },
  {
   "cell_type": "code",
   "execution_count": 37,
   "id": "f77d35bd",
   "metadata": {
    "id": "f77d35bd",
    "outputId": "23ffce85-0c89-4f39-93e2-8f9419495650"
   },
   "outputs": [
    {
     "data": {
      "text/plain": [
       "<AxesSubplot:xlabel='doors', ylabel='count'>"
      ]
     },
     "execution_count": 37,
     "metadata": {},
     "output_type": "execute_result"
    },
    {
     "data": {
      "image/png": "[encoded data removed]",
      "text/plain": [
       "<Figure size 1080x720 with 1 Axes>"
      ]
     },
     "metadata": {
      "needs_background": "light"
     },
     "output_type": "display_data"
    }
   ],
   "source": [
    "plt.figure(figsize=(15,10))\n",
    "sns.countplot(data=train_data, x='doors', hue='binaryClass')"
   ]
  },
  {
   "cell_type": "markdown",
   "id": "1a9ae2a9",
   "metadata": {
    "id": "1a9ae2a9"
   },
   "source": [
    "Nothing stunning in the maintenance cost. All cars share the same maintenance costs."
   ]
  },
  {
   "cell_type": "code",
   "execution_count": 76,
   "id": "7dc9bb1f",
   "metadata": {
    "id": "7dc9bb1f",
    "outputId": "395f7c8b-20e0-435b-d7c8-522ab2b2464d"
   },
   "outputs": [
    {
     "data": {
      "text/plain": [
       "more    418\n",
       "2       407\n",
       "4       384\n",
       "Name: persons, dtype: int64"
      ]
     },
     "execution_count": 76,
     "metadata": {},
     "output_type": "execute_result"
    }
   ],
   "source": [
    "train_data['persons'].value_counts()"
   ]
  },
  {
   "cell_type": "code",
   "execution_count": 38,
   "id": "0965bc7e",
   "metadata": {
    "id": "0965bc7e",
    "outputId": "bdad2618-29af-444d-9867-453f233c1f98"
   },
   "outputs": [
    {
     "data": {
      "text/plain": [
       "<AxesSubplot:xlabel='persons', ylabel='count'>"
      ]
     },
     "execution_count": 38,
     "metadata": {},
     "output_type": "execute_result"
    },
    {
     "data": {
      "image/png": "[encoded data removed]",
      "text/plain": [
       "<Figure size 1080x720 with 1 Axes>"
      ]
     },
     "metadata": {
      "needs_background": "light"
     },
     "output_type": "display_data"
    }
   ],
   "source": [
    "plt.figure(figsize=(15,10))\n",
    "sns.countplot(data=train_data, x='persons', hue='binaryClass')"
   ]
  },
  {
   "cell_type": "code",
   "execution_count": 39,
   "id": "f8fbe08a",
   "metadata": {
    "id": "f8fbe08a",
    "outputId": "df8ac953-3a3e-40ea-c083-b457995578ed"
   },
   "outputs": [
    {
     "data": {
      "text/plain": [
       "big      411\n",
       "med      405\n",
       "small    393\n",
       "Name: lug_boot, dtype: int64"
      ]
     },
     "execution_count": 39,
     "metadata": {},
     "output_type": "execute_result"
    }
   ],
   "source": [
    "train_data['lug_boot'].value_counts()"
   ]
  },
  {
   "cell_type": "code",
   "execution_count": 40,
   "id": "d7e678ef",
   "metadata": {
    "id": "d7e678ef",
    "outputId": "eff94264-1968-4bcb-9fc1-fac182117d67"
   },
   "outputs": [
    {
     "data": {
      "text/plain": [
       "<AxesSubplot:xlabel='lug_boot', ylabel='count'>"
      ]
     },
     "execution_count": 40,
     "metadata": {},
     "output_type": "execute_result"
    },
    {
     "data": {
      "image/png": "[encoded data removed]",
      "text/plain": [
       "<Figure size 1080x720 with 1 Axes>"
      ]
     },
     "metadata": {
      "needs_background": "light"
     },
     "output_type": "display_data"
    }
   ],
   "source": [
    "plt.figure(figsize=(15,10))\n",
    "sns.countplot(data=train_data, x='lug_boot', hue='binaryClass')"
   ]
  },
  {
   "cell_type": "code",
   "execution_count": 41,
   "id": "b645aa70",
   "metadata": {
    "id": "b645aa70",
    "outputId": "6059c677-93eb-418a-f8d6-5cceafeeff77"
   },
   "outputs": [
    {
     "data": {
      "text/plain": [
       "med     406\n",
       "low     402\n",
       "high    401\n",
       "Name: safety, dtype: int64"
      ]
     },
     "execution_count": 41,
     "metadata": {},
     "output_type": "execute_result"
    }
   ],
   "source": [
    "train_data['safety'].value_counts()"
   ]
  },
  {
   "cell_type": "code",
   "execution_count": 42,
   "id": "0bf059e9",
   "metadata": {
    "id": "0bf059e9",
    "outputId": "8ee18149-1e6c-4d66-d320-291ecd24a75a"
   },
   "outputs": [
    {
     "data": {
      "text/plain": [
       "<AxesSubplot:xlabel='safety', ylabel='count'>"
      ]
     },
     "execution_count": 42,
     "metadata": {},
     "output_type": "execute_result"
    },
    {
     "data": {
      "image/png": "[encoded data removed]",
      "text/plain": [
       "<Figure size 1080x720 with 1 Axes>"
      ]
     },
     "metadata": {
      "needs_background": "light"
     },
     "output_type": "display_data"
    }
   ],
   "source": [
    "plt.figure(figsize=(15,10))\n",
    "sns.countplot(data=train_data, x='safety', hue='binaryClass')"
   ]
  },
  {
   "cell_type": "code",
   "execution_count": 43,
   "id": "f978b550",
   "metadata": {
    "id": "f978b550",
    "outputId": "5489586d-b08a-433e-c33c-11a1112d50eb"
   },
   "outputs": [
    {
     "data": {
      "text/plain": [
       "P    849\n",
       "N    360\n",
       "Name: binaryClass, dtype: int64"
      ]
     },
     "execution_count": 43,
     "metadata": {},
     "output_type": "execute_result"
    }
   ],
   "source": [
    "train_data['binaryClass'].value_counts()"
   ]
  },
  {
   "cell_type": "code",
   "execution_count": 44,
   "id": "7c7b7048",
   "metadata": {
    "id": "7c7b7048",
    "outputId": "0f7cdfcf-3f34-4803-ff14-17f74c632a41"
   },
   "outputs": [
    {
     "data": {
      "text/plain": [
       "<AxesSubplot:xlabel='binaryClass', ylabel='count'>"
      ]
     },
     "execution_count": 44,
     "metadata": {},
     "output_type": "execute_result"
    },
    {
     "data": {
      "image/png": "[encoded data removed]",
      "text/plain": [
       "<Figure size 1080x720 with 1 Axes>"
      ]
     },
     "metadata": {
      "needs_background": "light"
     },
     "output_type": "display_data"
    }
   ],
   "source": [
    "plt.figure(figsize=(15,10))\n",
    "sns.countplot(data=train_data, x='binaryClass')"
   ]
  },
  {
   "cell_type": "markdown",
   "id": "341e0ea8",
   "metadata": {
    "id": "341e0ea8"
   },
   "source": [
    "As you can see, our data is completely skewed/imbalanced. The positive examples are 2x more than negative examples.\n",
    "\n",
    "So we will remember during the model evaluation that accuracy is not the right metric in this case. Real world datasets comes with their unique blends, dataset can be imbalanced. Missing values can be present. We just have to find the effective way to deal with those issues. So again for evaluation, we will not rely on accuracy."
   ]
  },
  {
   "cell_type": "markdown",
   "id": "e6733727",
   "metadata": {
    "id": "e6733727"
   },
   "source": [
    "<a name='4'></a>\n",
    "\n",
    "## 4 - Data Preprocessing\n",
    "\n",
    "It is here that we prepare the data to be in the proper format for the machine learning model.\n",
    "\n",
    "### Handling Categorical Features\n",
    "\n",
    "Decision trees don't care if the features are scaled or not, and they can handle the categorical features. There is a [note on documentation](https://scikit-learn.org/stable/modules/tree.html#tree) that the sklearn tree implementation doesn't support categorical features, so I will go ahead and handle them. It's fun anyways :)"
   ]
  },
  {
   "cell_type": "markdown",
   "id": "9517b46f",
   "metadata": {
    "id": "9517b46f"
   },
   "source": [
    "Before handling categorical features, let's create a training input data and labels."
   ]
  },
  {
   "cell_type": "code",
   "execution_count": 56,
   "id": "0766b45b",
   "metadata": {
    "id": "0766b45b"
   },
   "outputs": [],
   "source": [
    "car_train = train_data.drop('binaryClass', axis=1)\n",
    "car_labels = train_data[['binaryClass']]"
   ]
  },
  {
   "cell_type": "markdown",
   "id": "0768adae",
   "metadata": {
    "id": "0768adae"
   },
   "source": [
    "Let's create a pipeline to encode all features in the training input data."
   ]
  },
  {
   "cell_type": "code",
   "execution_count": 57,
   "id": "b7ee6d06",
   "metadata": {
    "id": "b7ee6d06"
   },
   "outputs": [],
   "source": [
    "from sklearn.preprocessing import OrdinalEncoder\n",
    "\n",
    "from sklearn.pipeline import Pipeline\n",
    "\n",
    "pipe = Pipeline([('ord_enc', OrdinalEncoder())])\n",
    "\n",
    "car_train_prepared = pipe.fit_transform(car_train)"
   ]
  },
  {
   "cell_type": "markdown",
   "id": "dc414f79",
   "metadata": {
    "id": "dc414f79"
   },
   "source": [
    "Let's also handle labels. Labels contain P and N, <br>so we want to convert those into numbers. Here instead of using Ordinary Encoder,<br> we will use Label Encoder. Sklearn is explicity that it is used to encode target features."
   ]
  },
  {
   "cell_type": "code",
   "execution_count": 58,
   "id": "b691edf1",
   "metadata": {
    "id": "b691edf1"
   },
   "outputs": [
    {
     "name": "stderr",
     "output_type": "stream",
     "text": [
      "/usr/local/lib/python3.9/site-packages/sklearn/preprocessing/_label.py:114: DataConversionWarning: A column-vector y was passed when a 1d array was expected. Please change the shape of y to (n_samples, ), for example using ravel().\n",
      "  y = column_or_1d(y, warn=True)\n"
     ]
    }
   ],
   "source": [
    "from sklearn.preprocessing import LabelEncoder\n",
    "\n",
    "label_enc = LabelEncoder()\n",
    "\n",
    "car_labels_prepared = label_enc.fit_transform(car_labels)"
   ]
  },
  {
   "cell_type": "markdown",
   "id": "dd496de6",
   "metadata": {
    "id": "dd496de6"
   },
   "source": [
    "<a name='5'></a>\n",
    "\n",
    "## 5 - Training Decision Tree Classifier\n"
   ]
  },
  {
   "cell_type": "code",
   "execution_count": 59,
   "id": "8311b87a",
   "metadata": {
    "id": "8311b87a",
    "outputId": "1446d7ca-5f81-4adf-c1cf-13fd33b3a0aa"
   },
   "outputs": [
    {
     "data": {
      "text/html": [
       "<style>#sk-container-id-3 {color: black;}#sk-container-id-3 pre{padding: 0;}#sk-container-id-3 div.sk-toggleable {background-color: white;}#sk-container-id-3 label.sk-toggleable__label {cursor: pointer;display: block;width: 100%;margin-bottom: 0;padding: 0.3em;box-sizing: border-box;text-align: center;}#sk-container-id-3 label.sk-toggleable__label-arrow:before {content: \"▸\";float: left;margin-right: 0.25em;color: #696969;}#sk-container-id-3 label.sk-toggleable__label-arrow:hover:before {color: black;}#sk-container-id-3 div.sk-estimator:hover label.sk-toggleable__label-arrow:before {color: black;}#sk-container-id-3 div.sk-toggleable__content {max-height: 0;max-width: 0;overflow: hidden;text-align: left;background-color: #f0f8ff;}#sk-container-id-3 div.sk-toggleable__content pre {margin: 0.2em;color: black;border-radius: 0.25em;background-color: #f0f8ff;}#sk-container-id-3 input.sk-toggleable__control:checked~div.sk-toggleable__content {max-height: 200px;max-width: 100%;overflow: auto;}#sk-container-id-3 input.sk-toggleable__control:checked~label.sk-toggleable__label-arrow:before {content: \"▾\";}#sk-container-id-3 div.sk-estimator input.sk-toggleable__control:checked~label.sk-toggleable__label {background-color: #d4ebff;}#sk-container-id-3 div.sk-label input.sk-toggleable__control:checked~label.sk-toggleable__label {background-color: #d4ebff;}#sk-container-id-3 input.sk-hidden--visually {border: 0;clip: rect(1px 1px 1px 1px);clip: rect(1px, 1px, 1px, 1px);height: 1px;margin: -1px;overflow: hidden;padding: 0;position: absolute;width: 1px;}#sk-container-id-3 div.sk-estimator {font-family: monospace;background-color: #f0f8ff;border: 1px dotted black;border-radius: 0.25em;box-sizing: border-box;margin-bottom: 0.5em;}#sk-container-id-3 div.sk-estimator:hover {background-color: #d4ebff;}#sk-container-id-3 div.sk-parallel-item::after {content: \"\";width: 100%;border-bottom: 1px solid gray;flex-grow: 1;}#sk-container-id-3 div.sk-label:hover label.sk-toggleable__label {background-color: #d4ebff;}#sk-container-id-3 div.sk-serial::before {content: \"\";position: absolute;border-left: 1px solid gray;box-sizing: border-box;top: 0;bottom: 0;left: 50%;z-index: 0;}#sk-container-id-3 div.sk-serial {display: flex;flex-direction: column;align-items: center;background-color: white;padding-right: 0.2em;padding-left: 0.2em;position: relative;}#sk-container-id-3 div.sk-item {position: relative;z-index: 1;}#sk-container-id-3 div.sk-parallel {display: flex;align-items: stretch;justify-content: center;background-color: white;position: relative;}#sk-container-id-3 div.sk-item::before, #sk-container-id-3 div.sk-parallel-item::before {content: \"\";position: absolute;border-left: 1px solid gray;box-sizing: border-box;top: 0;bottom: 0;left: 50%;z-index: -1;}#sk-container-id-3 div.sk-parallel-item {display: flex;flex-direction: column;z-index: 1;position: relative;background-color: white;}#sk-container-id-3 div.sk-parallel-item:first-child::after {align-self: flex-end;width: 50%;}#sk-container-id-3 div.sk-parallel-item:last-child::after {align-self: flex-start;width: 50%;}#sk-container-id-3 div.sk-parallel-item:only-child::after {width: 0;}#sk-container-id-3 div.sk-dashed-wrapped {border: 1px dashed gray;margin: 0 0.4em 0.5em 0.4em;box-sizing: border-box;padding-bottom: 0.4em;background-color: white;}#sk-container-id-3 div.sk-label label {font-family: monospace;font-weight: bold;display: inline-block;line-height: 1.2em;}#sk-container-id-3 div.sk-label-container {text-align: center;}#sk-container-id-3 div.sk-container {/* jupyter's `normalize.less` sets `[hidden] { display: none; }` but bootstrap.min.css set `[hidden] { display: none !important; }` so we also need the `!important` here to be able to override the default hidden behavior on the sphinx rendered scikit-learn.org. See: https://github.com/scikit-learn/scikit-learn/issues/21755 */display: inline-block !important;position: relative;}#sk-container-id-3 div.sk-text-repr-fallback {display: none;}</style><div id=\"sk-container-id-3\" class=\"sk-top-container\"><div class=\"sk-text-repr-fallback\"><pre>DecisionTreeClassifier()</pre><b>In a Jupyter environment, please rerun this cell to show the HTML representation or trust the notebook. <br />On GitHub, the HTML representation is unable to render, please try loading this page with nbviewer.org.</b></div><div class=\"sk-container\" hidden><div class=\"sk-item\"><div class=\"sk-estimator sk-toggleable\"><input class=\"sk-toggleable__control sk-hidden--visually\" id=\"sk-estimator-id-3\" type=\"checkbox\" checked><label for=\"sk-estimator-id-3\" class=\"sk-toggleable__label sk-toggleable__label-arrow\">DecisionTreeClassifier</label><div class=\"sk-toggleable__content\"><pre>DecisionTreeClassifier()</pre></div></div></div></div></div>"
      ],
      "text/plain": [
       "DecisionTreeClassifier()"
      ]
     },
     "execution_count": 59,
     "metadata": {},
     "output_type": "execute_result"
    }
   ],
   "source": [
    "from sklearn.tree import DecisionTreeClassifier\n",
    "\n",
    "tree_clf = DecisionTreeClassifier()\n",
    "\n",
    "tree_clf.fit(car_train_prepared, car_labels_prepared)"
   ]
  },
  {
   "cell_type": "markdown",
   "id": "757c0a01",
   "metadata": {
    "id": "757c0a01"
   },
   "source": [
    "Let's train the same model on the scaled data."
   ]
  },
  {
   "cell_type": "code",
   "execution_count": 64,
   "id": "9e0e5e9b",
   "metadata": {},
   "outputs": [
    {
     "ename": "NameError",
     "evalue": "name 'tree' is not defined",
     "output_type": "error",
     "traceback": [
      "\u001b[0;31m---------------------------------------------------------------------------\u001b[0m",
      "\u001b[0;31mNameError\u001b[0m                                 Traceback (most recent call last)",
      "Input \u001b[0;32mIn [64]\u001b[0m, in \u001b[0;36m<cell line: 1>\u001b[0;34m()\u001b[0m\n\u001b[0;32m----> 1\u001b[0m text_representation \u001b[38;5;241m=\u001b[39m \u001b[43mtree\u001b[49m\u001b[38;5;241m.\u001b[39mexport_text(tree_clf)\n\u001b[1;32m      2\u001b[0m \u001b[38;5;28mprint\u001b[39m(text_representation)\n",
      "\u001b[0;31mNameError\u001b[0m: name 'tree' is not defined"
     ]
    }
   ],
   "source": [
    "text_representation = tree.export_text(tree_clf)\n",
    "print(text_representation)"
   ]
  },
  {
   "cell_type": "code",
   "execution_count": 89,
   "id": "ea28474e",
   "metadata": {
    "id": "ea28474e"
   },
   "outputs": [],
   "source": [
    "# if you run this, it will be error.\n",
    "# SKlearn tree implementation doesn't support categorical features\n",
    "\n",
    "#from sklearn.tree import DecisionTreeClassifier\n",
    "\n",
    "#tree_clf = DecisionTreeClassifier()\n",
    "\n",
    "#tree_clf.fit(car_train, car_labels)"
   ]
  },
  {
   "cell_type": "markdown",
   "id": "9afb9bde",
   "metadata": {
    "id": "9afb9bde"
   },
   "source": [
    "<a name='6'></a>\n",
    "\n",
    "## 6 - Evaluating Decision Trees\n",
    "\n",
    "Let's build 3 functions to display accuracy, confusion matrix,<br> and classification report. Classification report contains all <br>useful metrics such as precision, recall, and f1 score."
   ]
  },
  {
   "cell_type": "code",
   "execution_count": 65,
   "id": "6962359e",
   "metadata": {
    "id": "6962359e"
   },
   "outputs": [],
   "source": [
    "from sklearn.metrics import accuracy_score\n",
    "\n",
    "def accuracy(input_data,model,labels):\n",
    "    \"\"\"\n",
    "    Take the input data, model and labels and return accuracy\n",
    "    \"\"\"\n",
    "    preds = model.predict(input_data)\n",
    "    acc = accuracy_score(labels,preds)\n",
    "    return acc"
   ]
  },
  {
   "cell_type": "code",
   "execution_count": 67,
   "id": "5321beb0",
   "metadata": {
    "id": "5321beb0"
   },
   "outputs": [],
   "source": [
    "from sklearn.metrics import confusion_matrix\n",
    "\n",
    "def conf_matrix(input_data,model,labels):\n",
    "    \"\"\"\n",
    "    Take the input data, model and labels and return confusion matrix\n",
    "    \"\"\"\n",
    "    preds = model.predict(input_data)\n",
    "    cm = confusion_matrix(labels,preds)\n",
    "\n",
    "    return cm"
   ]
  },
  {
   "cell_type": "code",
   "execution_count": 68,
   "id": "12b6e547",
   "metadata": {
    "id": "12b6e547"
   },
   "outputs": [],
   "source": [
    "from sklearn.metrics import classification_report\n",
    "\n",
    "def class_report(input_data,model,labels):\n",
    "    \"\"\"\n",
    "    Take the input data, model and labels and return confusion matrix\n",
    "    \"\"\"\n",
    "    preds = model.predict(input_data)\n",
    "    report = classification_report(labels,preds)\n",
    "    report = print(report)\n",
    "\n",
    "    return report"
   ]
  },
  {
   "cell_type": "markdown",
   "id": "0a052ed6",
   "metadata": {
    "id": "0a052ed6"
   },
   "source": [
    "Let's find the accuracy on the training set."
   ]
  },
  {
   "cell_type": "code",
   "execution_count": 69,
   "id": "a17fed16",
   "metadata": {
    "id": "a17fed16",
    "outputId": "e33e47ea-1c79-43ae-d94e-aac157838e8c"
   },
   "outputs": [
    {
     "data": {
      "text/plain": [
       "1.0"
      ]
     },
     "execution_count": 69,
     "metadata": {},
     "output_type": "execute_result"
    }
   ],
   "source": [
    "accuracy(car_train_prepared, tree_clf, car_labels_prepared)"
   ]
  },
  {
   "cell_type": "markdown",
   "id": "fbeda399",
   "metadata": {
    "id": "fbeda399"
   },
   "source": [
    "Ohh, see! The decision trees overfitted the dataset.<br> Also if we remember well, our data is not balanced.<br> We have many positive examples than negative examples."
   ]
  },
  {
   "cell_type": "code",
   "execution_count": 70,
   "id": "b7b71a96",
   "metadata": {
    "id": "b7b71a96",
    "outputId": "e293acf4-ba80-45fe-b618-c70016f658e8"
   },
   "outputs": [
    {
     "data": {
      "text/plain": [
       "array([[360,   0],\n",
       "       [  0, 849]])"
      ]
     },
     "execution_count": 70,
     "metadata": {},
     "output_type": "execute_result"
    }
   ],
   "source": [
    "conf_matrix(car_train_prepared, tree_clf, car_labels_prepared)"
   ]
  },
  {
   "cell_type": "code",
   "execution_count": 71,
   "id": "1e7d0797",
   "metadata": {
    "id": "1e7d0797",
    "outputId": "da28b05e-2e2b-487f-de1c-f6a730cf3dc8"
   },
   "outputs": [
    {
     "name": "stdout",
     "output_type": "stream",
     "text": [
      "              precision    recall  f1-score   support\n",
      "\n",
      "           0       1.00      1.00      1.00       360\n",
      "           1       1.00      1.00      1.00       849\n",
      "\n",
      "    accuracy                           1.00      1209\n",
      "   macro avg       1.00      1.00      1.00      1209\n",
      "weighted avg       1.00      1.00      1.00      1209\n",
      "\n"
     ]
    }
   ],
   "source": [
    "class_report(car_train_prepared, tree_clf, car_labels_prepared)"
   ]
  },
  {
   "cell_type": "markdown",
   "id": "54f6022d",
   "metadata": {
    "id": "54f6022d"
   },
   "source": [
    "The model clearly overfitted the data. Let's see how we can regularize it."
   ]
  },
  {
   "cell_type": "markdown",
   "id": "66a574a5",
   "metadata": {
    "id": "66a574a5"
   },
   "source": [
    "<a name='7'></a>\n",
    "\n",
    "## 7 - Improving Decision Trees"
   ]
  },
  {
   "cell_type": "code",
   "execution_count": 96,
   "id": "0f92566d",
   "metadata": {
    "id": "0f92566d",
    "outputId": "571422be-ac82-48b6-f0e6-bfdeb05524ae"
   },
   "outputs": [
    {
     "data": {
      "text/plain": [
       "{'ccp_alpha': 0.0,\n",
       " 'class_weight': None,\n",
       " 'criterion': 'gini',\n",
       " 'max_depth': None,\n",
       " 'max_features': None,\n",
       " 'max_leaf_nodes': None,\n",
       " 'min_impurity_decrease': 0.0,\n",
       " 'min_samples_leaf': 1,\n",
       " 'min_samples_split': 2,\n",
       " 'min_weight_fraction_leaf': 0.0,\n",
       " 'random_state': None,\n",
       " 'splitter': 'best'}"
      ]
     },
     "execution_count": 96,
     "metadata": {},
     "output_type": "execute_result"
    }
   ],
   "source": [
    "tree_clf.get_params()"
   ]
  },
  {
   "cell_type": "markdown",
   "id": "af110f75",
   "metadata": {
    "id": "af110f75"
   },
   "source": [
    "One way to avoid overfitting is reduce number maximum depth of the tree, set by the hyperparameter `max_depth`. Similarly, we can attempt to reduce all hyperparameters with `max`term while also increasing the `min_` term parameters.\n",
    "\n",
    "Also, I set the `class_weight` to `balanced` because our dataset is imbalanced. By setting it to balanced, the model will automatically adjust the class weight based on the number of available samples in all classes.\n",
    "\n",
    "\n",
    "Let's use GridSearch to find best values of these hyperparameters."
   ]
  },
  {
   "cell_type": "code",
   "execution_count": 97,
   "id": "18f52052",
   "metadata": {
    "id": "18f52052"
   },
   "outputs": [],
   "source": [
    "# Let's hide warnings returned by grid search\n",
    "\n",
    "import warnings\n",
    "warnings.filterwarnings('ignore')"
   ]
  },
  {
   "cell_type": "code",
   "execution_count": 98,
   "id": "056818ed",
   "metadata": {
    "id": "056818ed",
    "outputId": "07411eef-b494-4d08-ec6b-e5e5b70fde1f"
   },
   "outputs": [
    {
     "name": "stdout",
     "output_type": "stream",
     "text": [
      "Fitting 3 folds for each of 5400 candidates, totalling 16200 fits\n"
     ]
    },
    {
     "data": {
      "text/html": [
       "<style>#sk-container-id-4 {color: black;}#sk-container-id-4 pre{padding: 0;}#sk-container-id-4 div.sk-toggleable {background-color: white;}#sk-container-id-4 label.sk-toggleable__label {cursor: pointer;display: block;width: 100%;margin-bottom: 0;padding: 0.3em;box-sizing: border-box;text-align: center;}#sk-container-id-4 label.sk-toggleable__label-arrow:before {content: \"▸\";float: left;margin-right: 0.25em;color: #696969;}#sk-container-id-4 label.sk-toggleable__label-arrow:hover:before {color: black;}#sk-container-id-4 div.sk-estimator:hover label.sk-toggleable__label-arrow:before {color: black;}#sk-container-id-4 div.sk-toggleable__content {max-height: 0;max-width: 0;overflow: hidden;text-align: left;background-color: #f0f8ff;}#sk-container-id-4 div.sk-toggleable__content pre {margin: 0.2em;color: black;border-radius: 0.25em;background-color: #f0f8ff;}#sk-container-id-4 input.sk-toggleable__control:checked~div.sk-toggleable__content {max-height: 200px;max-width: 100%;overflow: auto;}#sk-container-id-4 input.sk-toggleable__control:checked~label.sk-toggleable__label-arrow:before {content: \"▾\";}#sk-container-id-4 div.sk-estimator input.sk-toggleable__control:checked~label.sk-toggleable__label {background-color: #d4ebff;}#sk-container-id-4 div.sk-label input.sk-toggleable__control:checked~label.sk-toggleable__label {background-color: #d4ebff;}#sk-container-id-4 input.sk-hidden--visually {border: 0;clip: rect(1px 1px 1px 1px);clip: rect(1px, 1px, 1px, 1px);height: 1px;margin: -1px;overflow: hidden;padding: 0;position: absolute;width: 1px;}#sk-container-id-4 div.sk-estimator {font-family: monospace;background-color: #f0f8ff;border: 1px dotted black;border-radius: 0.25em;box-sizing: border-box;margin-bottom: 0.5em;}#sk-container-id-4 div.sk-estimator:hover {background-color: #d4ebff;}#sk-container-id-4 div.sk-parallel-item::after {content: \"\";width: 100%;border-bottom: 1px solid gray;flex-grow: 1;}#sk-container-id-4 div.sk-label:hover label.sk-toggleable__label {background-color: #d4ebff;}#sk-container-id-4 div.sk-serial::before {content: \"\";position: absolute;border-left: 1px solid gray;box-sizing: border-box;top: 0;bottom: 0;left: 50%;z-index: 0;}#sk-container-id-4 div.sk-serial {display: flex;flex-direction: column;align-items: center;background-color: white;padding-right: 0.2em;padding-left: 0.2em;position: relative;}#sk-container-id-4 div.sk-item {position: relative;z-index: 1;}#sk-container-id-4 div.sk-parallel {display: flex;align-items: stretch;justify-content: center;background-color: white;position: relative;}#sk-container-id-4 div.sk-item::before, #sk-container-id-4 div.sk-parallel-item::before {content: \"\";position: absolute;border-left: 1px solid gray;box-sizing: border-box;top: 0;bottom: 0;left: 50%;z-index: -1;}#sk-container-id-4 div.sk-parallel-item {display: flex;flex-direction: column;z-index: 1;position: relative;background-color: white;}#sk-container-id-4 div.sk-parallel-item:first-child::after {align-self: flex-end;width: 50%;}#sk-container-id-4 div.sk-parallel-item:last-child::after {align-self: flex-start;width: 50%;}#sk-container-id-4 div.sk-parallel-item:only-child::after {width: 0;}#sk-container-id-4 div.sk-dashed-wrapped {border: 1px dashed gray;margin: 0 0.4em 0.5em 0.4em;box-sizing: border-box;padding-bottom: 0.4em;background-color: white;}#sk-container-id-4 div.sk-label label {font-family: monospace;font-weight: bold;display: inline-block;line-height: 1.2em;}#sk-container-id-4 div.sk-label-container {text-align: center;}#sk-container-id-4 div.sk-container {/* jupyter's `normalize.less` sets `[hidden] { display: none; }` but bootstrap.min.css set `[hidden] { display: none !important; }` so we also need the `!important` here to be able to override the default hidden behavior on the sphinx rendered scikit-learn.org. See: https://github.com/scikit-learn/scikit-learn/issues/21755 */display: inline-block !important;position: relative;}#sk-container-id-4 div.sk-text-repr-fallback {display: none;}</style><div id=\"sk-container-id-4\" class=\"sk-top-container\"><div class=\"sk-text-repr-fallback\"><pre>GridSearchCV(cv=3,\n",
       "             estimator=DecisionTreeClassifier(class_weight=&#x27;balanced&#x27;,\n",
       "                                              random_state=42),\n",
       "             param_grid={&#x27;max_depth&#x27;: [0, 1, 2, 3, 4, 5],\n",
       "                         &#x27;max_features&#x27;: [0, 1, 2, 3, 4, 5],\n",
       "                         &#x27;max_leaf_nodes&#x27;: [0, 1, 2, 3, 4, 5],\n",
       "                         &#x27;min_samples_leaf&#x27;: [0, 1, 2, 3, 4],\n",
       "                         &#x27;min_samples_split&#x27;: [0, 1, 2, 3, 4]},\n",
       "             verbose=1)</pre><b>In a Jupyter environment, please rerun this cell to show the HTML representation or trust the notebook. <br />On GitHub, the HTML representation is unable to render, please try loading this page with nbviewer.org.</b></div><div class=\"sk-container\" hidden><div class=\"sk-item sk-dashed-wrapped\"><div class=\"sk-label-container\"><div class=\"sk-label sk-toggleable\"><input class=\"sk-toggleable__control sk-hidden--visually\" id=\"sk-estimator-id-4\" type=\"checkbox\" ><label for=\"sk-estimator-id-4\" class=\"sk-toggleable__label sk-toggleable__label-arrow\">GridSearchCV</label><div class=\"sk-toggleable__content\"><pre>GridSearchCV(cv=3,\n",
       "             estimator=DecisionTreeClassifier(class_weight=&#x27;balanced&#x27;,\n",
       "                                              random_state=42),\n",
       "             param_grid={&#x27;max_depth&#x27;: [0, 1, 2, 3, 4, 5],\n",
       "                         &#x27;max_features&#x27;: [0, 1, 2, 3, 4, 5],\n",
       "                         &#x27;max_leaf_nodes&#x27;: [0, 1, 2, 3, 4, 5],\n",
       "                         &#x27;min_samples_leaf&#x27;: [0, 1, 2, 3, 4],\n",
       "                         &#x27;min_samples_split&#x27;: [0, 1, 2, 3, 4]},\n",
       "             verbose=1)</pre></div></div></div><div class=\"sk-parallel\"><div class=\"sk-parallel-item\"><div class=\"sk-item\"><div class=\"sk-label-container\"><div class=\"sk-label sk-toggleable\"><input class=\"sk-toggleable__control sk-hidden--visually\" id=\"sk-estimator-id-5\" type=\"checkbox\" ><label for=\"sk-estimator-id-5\" class=\"sk-toggleable__label sk-toggleable__label-arrow\">estimator: DecisionTreeClassifier</label><div class=\"sk-toggleable__content\"><pre>DecisionTreeClassifier(class_weight=&#x27;balanced&#x27;, random_state=42)</pre></div></div></div><div class=\"sk-serial\"><div class=\"sk-item\"><div class=\"sk-estimator sk-toggleable\"><input class=\"sk-toggleable__control sk-hidden--visually\" id=\"sk-estimator-id-6\" type=\"checkbox\" ><label for=\"sk-estimator-id-6\" class=\"sk-toggleable__label sk-toggleable__label-arrow\">DecisionTreeClassifier</label><div class=\"sk-toggleable__content\"><pre>DecisionTreeClassifier(class_weight=&#x27;balanced&#x27;, random_state=42)</pre></div></div></div></div></div></div></div></div></div></div>"
      ],
      "text/plain": [
       "GridSearchCV(cv=3,\n",
       "             estimator=DecisionTreeClassifier(class_weight='balanced',\n",
       "                                              random_state=42),\n",
       "             param_grid={'max_depth': [0, 1, 2, 3, 4, 5],\n",
       "                         'max_features': [0, 1, 2, 3, 4, 5],\n",
       "                         'max_leaf_nodes': [0, 1, 2, 3, 4, 5],\n",
       "                         'min_samples_leaf': [0, 1, 2, 3, 4],\n",
       "                         'min_samples_split': [0, 1, 2, 3, 4]},\n",
       "             verbose=1)"
      ]
     },
     "execution_count": 98,
     "metadata": {},
     "output_type": "execute_result"
    }
   ],
   "source": [
    "from sklearn.model_selection import GridSearchCV\n",
    "\n",
    "params_grid = {'max_leaf_nodes': list(range(0, 10)),\n",
    "               'min_samples_split': [0,1,2, 3, 4],\n",
    "               'min_samples_leaf': [0,1,2, 3, 4],\n",
    "               'max_depth':[0,1,2,3,4,5],\n",
    "               'max_features':[0,1,2,3,4,5],\n",
    "              'max_leaf_nodes':[0,1,2,3,4,5]}\n",
    "\n",
    "#refit is true by default. The best estimator is trained on the whole dataset\n",
    "\n",
    "grid_search = GridSearchCV(DecisionTreeClassifier(random_state=42, class_weight='balanced'), params_grid, verbose=1, cv=3, refit=True)\n",
    "\n",
    "grid_search.fit(car_train_prepared, car_labels_prepared)"
   ]
  },
  {
   "cell_type": "code",
   "execution_count": 99,
   "id": "55a5d7f3",
   "metadata": {
    "id": "55a5d7f3",
    "outputId": "5df8687c-2f43-45cf-fe57-44109091d721"
   },
   "outputs": [
    {
     "data": {
      "text/plain": [
       "{'max_depth': 4,\n",
       " 'max_features': 5,\n",
       " 'max_leaf_nodes': 5,\n",
       " 'min_samples_leaf': 1,\n",
       " 'min_samples_split': 2}"
      ]
     },
     "execution_count": 99,
     "metadata": {},
     "output_type": "execute_result"
    }
   ],
   "source": [
    "grid_search.best_params_"
   ]
  },
  {
   "cell_type": "code",
   "execution_count": 105,
   "id": "c4a1488d",
   "metadata": {
    "id": "c4a1488d",
    "outputId": "65d076ad-22f3-46ab-8a30-5c0449d94f62"
   },
   "outputs": [
    {
     "data": {
      "text/html": [
       "<style>#sk-container-id-6 {color: black;}#sk-container-id-6 pre{padding: 0;}#sk-container-id-6 div.sk-toggleable {background-color: white;}#sk-container-id-6 label.sk-toggleable__label {cursor: pointer;display: block;width: 100%;margin-bottom: 0;padding: 0.3em;box-sizing: border-box;text-align: center;}#sk-container-id-6 label.sk-toggleable__label-arrow:before {content: \"▸\";float: left;margin-right: 0.25em;color: #696969;}#sk-container-id-6 label.sk-toggleable__label-arrow:hover:before {color: black;}#sk-container-id-6 div.sk-estimator:hover label.sk-toggleable__label-arrow:before {color: black;}#sk-container-id-6 div.sk-toggleable__content {max-height: 0;max-width: 0;overflow: hidden;text-align: left;background-color: #f0f8ff;}#sk-container-id-6 div.sk-toggleable__content pre {margin: 0.2em;color: black;border-radius: 0.25em;background-color: #f0f8ff;}#sk-container-id-6 input.sk-toggleable__control:checked~div.sk-toggleable__content {max-height: 200px;max-width: 100%;overflow: auto;}#sk-container-id-6 input.sk-toggleable__control:checked~label.sk-toggleable__label-arrow:before {content: \"▾\";}#sk-container-id-6 div.sk-estimator input.sk-toggleable__control:checked~label.sk-toggleable__label {background-color: #d4ebff;}#sk-container-id-6 div.sk-label input.sk-toggleable__control:checked~label.sk-toggleable__label {background-color: #d4ebff;}#sk-container-id-6 input.sk-hidden--visually {border: 0;clip: rect(1px 1px 1px 1px);clip: rect(1px, 1px, 1px, 1px);height: 1px;margin: -1px;overflow: hidden;padding: 0;position: absolute;width: 1px;}#sk-container-id-6 div.sk-estimator {font-family: monospace;background-color: #f0f8ff;border: 1px dotted black;border-radius: 0.25em;box-sizing: border-box;margin-bottom: 0.5em;}#sk-container-id-6 div.sk-estimator:hover {background-color: #d4ebff;}#sk-container-id-6 div.sk-parallel-item::after {content: \"\";width: 100%;border-bottom: 1px solid gray;flex-grow: 1;}#sk-container-id-6 div.sk-label:hover label.sk-toggleable__label {background-color: #d4ebff;}#sk-container-id-6 div.sk-serial::before {content: \"\";position: absolute;border-left: 1px solid gray;box-sizing: border-box;top: 0;bottom: 0;left: 50%;z-index: 0;}#sk-container-id-6 div.sk-serial {display: flex;flex-direction: column;align-items: center;background-color: white;padding-right: 0.2em;padding-left: 0.2em;position: relative;}#sk-container-id-6 div.sk-item {position: relative;z-index: 1;}#sk-container-id-6 div.sk-parallel {display: flex;align-items: stretch;justify-content: center;background-color: white;position: relative;}#sk-container-id-6 div.sk-item::before, #sk-container-id-6 div.sk-parallel-item::before {content: \"\";position: absolute;border-left: 1px solid gray;box-sizing: border-box;top: 0;bottom: 0;left: 50%;z-index: -1;}#sk-container-id-6 div.sk-parallel-item {display: flex;flex-direction: column;z-index: 1;position: relative;background-color: white;}#sk-container-id-6 div.sk-parallel-item:first-child::after {align-self: flex-end;width: 50%;}#sk-container-id-6 div.sk-parallel-item:last-child::after {align-self: flex-start;width: 50%;}#sk-container-id-6 div.sk-parallel-item:only-child::after {width: 0;}#sk-container-id-6 div.sk-dashed-wrapped {border: 1px dashed gray;margin: 0 0.4em 0.5em 0.4em;box-sizing: border-box;padding-bottom: 0.4em;background-color: white;}#sk-container-id-6 div.sk-label label {font-family: monospace;font-weight: bold;display: inline-block;line-height: 1.2em;}#sk-container-id-6 div.sk-label-container {text-align: center;}#sk-container-id-6 div.sk-container {/* jupyter's `normalize.less` sets `[hidden] { display: none; }` but bootstrap.min.css set `[hidden] { display: none !important; }` so we also need the `!important` here to be able to override the default hidden behavior on the sphinx rendered scikit-learn.org. See: https://github.com/scikit-learn/scikit-learn/issues/21755 */display: inline-block !important;position: relative;}#sk-container-id-6 div.sk-text-repr-fallback {display: none;}</style><div id=\"sk-container-id-6\" class=\"sk-top-container\"><div class=\"sk-text-repr-fallback\"><pre>DecisionTreeClassifier(class_weight=&#x27;balanced&#x27;, max_depth=4, max_features=5,\n",
       "                       max_leaf_nodes=5, random_state=42)</pre><b>In a Jupyter environment, please rerun this cell to show the HTML representation or trust the notebook. <br />On GitHub, the HTML representation is unable to render, please try loading this page with nbviewer.org.</b></div><div class=\"sk-container\" hidden><div class=\"sk-item\"><div class=\"sk-estimator sk-toggleable\"><input class=\"sk-toggleable__control sk-hidden--visually\" id=\"sk-estimator-id-8\" type=\"checkbox\" checked><label for=\"sk-estimator-id-8\" class=\"sk-toggleable__label sk-toggleable__label-arrow\">DecisionTreeClassifier</label><div class=\"sk-toggleable__content\"><pre>DecisionTreeClassifier(class_weight=&#x27;balanced&#x27;, max_depth=4, max_features=5,\n",
       "                       max_leaf_nodes=5, random_state=42)</pre></div></div></div></div></div>"
      ],
      "text/plain": [
       "DecisionTreeClassifier(class_weight='balanced', max_depth=4, max_features=5,\n",
       "                       max_leaf_nodes=5, random_state=42)"
      ]
     },
     "execution_count": 105,
     "metadata": {},
     "output_type": "execute_result"
    }
   ],
   "source": [
    "grid_search.best_estimator_"
   ]
  },
  {
   "cell_type": "code",
   "execution_count": 106,
   "id": "4995ab2d",
   "metadata": {
    "id": "4995ab2d"
   },
   "outputs": [],
   "source": [
    "tree_best = grid_search.best_estimator_"
   ]
  },
  {
   "cell_type": "markdown",
   "id": "0631c68d",
   "metadata": {
    "id": "0631c68d"
   },
   "source": [
    "We can also plot the tree of the improved model."
   ]
  },
  {
   "cell_type": "code",
   "execution_count": 107,
   "id": "bb3a6292",
   "metadata": {
    "id": "bb3a6292",
    "outputId": "2c710ef2-aff0-41a0-f350-cc336014553d"
   },
   "outputs": [
    {
     "data": {
      "text/plain": [
       "Index(['buying', 'maint', 'doors', 'persons', 'lug_boot', 'safety',\n",
       "       'binaryClass'],\n",
       "      dtype='object')"
      ]
     },
     "execution_count": 107,
     "metadata": {},
     "output_type": "execute_result"
    }
   ],
   "source": [
    "car_data.columns"
   ]
  },
  {
   "cell_type": "code",
   "execution_count": 108,
   "id": "bc930bc3",
   "metadata": {
    "id": "bc930bc3",
    "outputId": "21c92e21-f3af-4fc7-b288-12772ed0e10f"
   },
   "outputs": [
    {
     "ename": "InvalidParameterError",
     "evalue": "The 'feature_names' parameter of plot_tree must be an instance of 'list' or None. Got Index(['buying', 'maint', 'doors', 'persons', 'lug_boot', 'safety'], dtype='object') instead.",
     "output_type": "error",
     "traceback": [
      "\u001b[0;31m---------------------------------------------------------------------------\u001b[0m",
      "\u001b[0;31mInvalidParameterError\u001b[0m                     Traceback (most recent call last)",
      "Input \u001b[0;32mIn [108]\u001b[0m, in \u001b[0;36m<cell line: 4>\u001b[0;34m()\u001b[0m\n\u001b[1;32m      1\u001b[0m \u001b[38;5;28;01mfrom\u001b[39;00m \u001b[38;5;21;01msklearn\u001b[39;00m\u001b[38;5;21;01m.\u001b[39;00m\u001b[38;5;21;01mtree\u001b[39;00m \u001b[38;5;28;01mimport\u001b[39;00m plot_tree\n\u001b[1;32m      3\u001b[0m plt\u001b[38;5;241m.\u001b[39mfigure(figsize\u001b[38;5;241m=\u001b[39m(\u001b[38;5;241m20\u001b[39m,\u001b[38;5;241m15\u001b[39m))\n\u001b[0;32m----> 4\u001b[0m \u001b[43mplot_tree\u001b[49m\u001b[43m(\u001b[49m\u001b[43mtree_best\u001b[49m\u001b[43m,\u001b[49m\u001b[43m \u001b[49m\u001b[43mfeature_names\u001b[49m\u001b[38;5;241;43m=\u001b[39;49m\u001b[43mcar_train\u001b[49m\u001b[38;5;241;43m.\u001b[39;49m\u001b[43mcolumns\u001b[49m\u001b[43m,\u001b[49m\u001b[43m \u001b[49m\u001b[43mclass_names\u001b[49m\u001b[38;5;241;43m=\u001b[39;49m\u001b[43m[\u001b[49m\u001b[38;5;124;43m'\u001b[39;49m\u001b[38;5;124;43mN\u001b[39;49m\u001b[38;5;124;43m'\u001b[39;49m\u001b[43m,\u001b[49m\u001b[38;5;124;43m'\u001b[39;49m\u001b[38;5;124;43mP\u001b[39;49m\u001b[38;5;124;43m'\u001b[39;49m\u001b[43m]\u001b[49m\u001b[43m)\u001b[49m\n",
      "File \u001b[0;32m/usr/local/lib/python3.9/site-packages/sklearn/utils/_param_validation.py:201\u001b[0m, in \u001b[0;36mvalidate_params.<locals>.decorator.<locals>.wrapper\u001b[0;34m(*args, **kwargs)\u001b[0m\n\u001b[1;32m    198\u001b[0m to_ignore \u001b[38;5;241m+\u001b[39m\u001b[38;5;241m=\u001b[39m [\u001b[38;5;124m\"\u001b[39m\u001b[38;5;124mself\u001b[39m\u001b[38;5;124m\"\u001b[39m, \u001b[38;5;124m\"\u001b[39m\u001b[38;5;124mcls\u001b[39m\u001b[38;5;124m\"\u001b[39m]\n\u001b[1;32m    199\u001b[0m params \u001b[38;5;241m=\u001b[39m {k: v \u001b[38;5;28;01mfor\u001b[39;00m k, v \u001b[38;5;129;01min\u001b[39;00m params\u001b[38;5;241m.\u001b[39marguments\u001b[38;5;241m.\u001b[39mitems() \u001b[38;5;28;01mif\u001b[39;00m k \u001b[38;5;129;01mnot\u001b[39;00m \u001b[38;5;129;01min\u001b[39;00m to_ignore}\n\u001b[0;32m--> 201\u001b[0m \u001b[43mvalidate_parameter_constraints\u001b[49m\u001b[43m(\u001b[49m\n\u001b[1;32m    202\u001b[0m \u001b[43m    \u001b[49m\u001b[43mparameter_constraints\u001b[49m\u001b[43m,\u001b[49m\u001b[43m \u001b[49m\u001b[43mparams\u001b[49m\u001b[43m,\u001b[49m\u001b[43m \u001b[49m\u001b[43mcaller_name\u001b[49m\u001b[38;5;241;43m=\u001b[39;49m\u001b[43mfunc\u001b[49m\u001b[38;5;241;43m.\u001b[39;49m\u001b[38;5;18;43m__qualname__\u001b[39;49m\n\u001b[1;32m    203\u001b[0m \u001b[43m\u001b[49m\u001b[43m)\u001b[49m\n\u001b[1;32m    205\u001b[0m \u001b[38;5;28;01mtry\u001b[39;00m:\n\u001b[1;32m    206\u001b[0m     \u001b[38;5;28;01mwith\u001b[39;00m config_context(\n\u001b[1;32m    207\u001b[0m         skip_parameter_validation\u001b[38;5;241m=\u001b[39m(\n\u001b[1;32m    208\u001b[0m             prefer_skip_nested_validation \u001b[38;5;129;01mor\u001b[39;00m global_skip_validation\n\u001b[1;32m    209\u001b[0m         )\n\u001b[1;32m    210\u001b[0m     ):\n",
      "File \u001b[0;32m/usr/local/lib/python3.9/site-packages/sklearn/utils/_param_validation.py:95\u001b[0m, in \u001b[0;36mvalidate_parameter_constraints\u001b[0;34m(parameter_constraints, params, caller_name)\u001b[0m\n\u001b[1;32m     89\u001b[0m \u001b[38;5;28;01melse\u001b[39;00m:\n\u001b[1;32m     90\u001b[0m     constraints_str \u001b[38;5;241m=\u001b[39m (\n\u001b[1;32m     91\u001b[0m         \u001b[38;5;124mf\u001b[39m\u001b[38;5;124m\"\u001b[39m\u001b[38;5;132;01m{\u001b[39;00m\u001b[38;5;124m'\u001b[39m\u001b[38;5;124m, \u001b[39m\u001b[38;5;124m'\u001b[39m\u001b[38;5;241m.\u001b[39mjoin([\u001b[38;5;28mstr\u001b[39m(c) \u001b[38;5;28;01mfor\u001b[39;00m c \u001b[38;5;129;01min\u001b[39;00m constraints[:\u001b[38;5;241m-\u001b[39m\u001b[38;5;241m1\u001b[39m]])\u001b[38;5;132;01m}\u001b[39;00m\u001b[38;5;124m or\u001b[39m\u001b[38;5;124m\"\u001b[39m\n\u001b[1;32m     92\u001b[0m         \u001b[38;5;124mf\u001b[39m\u001b[38;5;124m\"\u001b[39m\u001b[38;5;124m \u001b[39m\u001b[38;5;132;01m{\u001b[39;00mconstraints[\u001b[38;5;241m-\u001b[39m\u001b[38;5;241m1\u001b[39m]\u001b[38;5;132;01m}\u001b[39;00m\u001b[38;5;124m\"\u001b[39m\n\u001b[1;32m     93\u001b[0m     )\n\u001b[0;32m---> 95\u001b[0m \u001b[38;5;28;01mraise\u001b[39;00m InvalidParameterError(\n\u001b[1;32m     96\u001b[0m     \u001b[38;5;124mf\u001b[39m\u001b[38;5;124m\"\u001b[39m\u001b[38;5;124mThe \u001b[39m\u001b[38;5;132;01m{\u001b[39;00mparam_name\u001b[38;5;132;01m!r}\u001b[39;00m\u001b[38;5;124m parameter of \u001b[39m\u001b[38;5;132;01m{\u001b[39;00mcaller_name\u001b[38;5;132;01m}\u001b[39;00m\u001b[38;5;124m must be\u001b[39m\u001b[38;5;124m\"\u001b[39m\n\u001b[1;32m     97\u001b[0m     \u001b[38;5;124mf\u001b[39m\u001b[38;5;124m\"\u001b[39m\u001b[38;5;124m \u001b[39m\u001b[38;5;132;01m{\u001b[39;00mconstraints_str\u001b[38;5;132;01m}\u001b[39;00m\u001b[38;5;124m. Got \u001b[39m\u001b[38;5;132;01m{\u001b[39;00mparam_val\u001b[38;5;132;01m!r}\u001b[39;00m\u001b[38;5;124m instead.\u001b[39m\u001b[38;5;124m\"\u001b[39m\n\u001b[1;32m     98\u001b[0m )\n",
      "\u001b[0;31mInvalidParameterError\u001b[0m: The 'feature_names' parameter of plot_tree must be an instance of 'list' or None. Got Index(['buying', 'maint', 'doors', 'persons', 'lug_boot', 'safety'], dtype='object') instead."
     ]
    },
    {
     "data": {
      "text/plain": [
       "<Figure size 1440x1080 with 0 Axes>"
      ]
     },
     "metadata": {},
     "output_type": "display_data"
    }
   ],
   "source": [
    "from sklearn.tree import plot_tree\n",
    "\n",
    "plt.figure(figsize=(20,15))\n",
    "plot_tree(tree_best, feature_names=car_train.columns, class_names=['N','P']);"
   ]
  },
  {
   "cell_type": "markdown",
   "id": "44fc64ef",
   "metadata": {
    "id": "44fc64ef"
   },
   "source": [
    "Let's make prediction on the training data again."
   ]
  },
  {
   "cell_type": "code",
   "execution_count": 109,
   "id": "85b1b211",
   "metadata": {
    "id": "85b1b211",
    "outputId": "17ee65a4-0945-4c9c-b1d4-8fd7935f39c0"
   },
   "outputs": [
    {
     "data": {
      "text/plain": [
       "0.8924731182795699"
      ]
     },
     "execution_count": 109,
     "metadata": {},
     "output_type": "execute_result"
    }
   ],
   "source": [
    "accuracy(car_train_prepared, tree_best, car_labels_prepared)"
   ]
  },
  {
   "cell_type": "code",
   "execution_count": null,
   "id": "d6e03505",
   "metadata": {
    "id": "d6e03505",
    "outputId": "3f1882d0-1f80-46c6-93cd-bf89fbbc1ad3"
   },
   "outputs": [],
   "source": [
    "conf_matrix(car_train_prepared, tree_best, car_labels_prepared)"
   ]
  },
  {
   "cell_type": "markdown",
   "id": "5fd20f6c",
   "metadata": {
    "id": "5fd20f6c"
   },
   "source": [
    "In confusion matrix, each row represent an actual class and each column represents predicted class.\n",
    "\n",
    "So, from the results above:\n",
    "\n",
    "* 430 negative examples(N) were correcty predicted as negatives(`true negatives`).\n",
    "* 28 negatives examples(N) were incorrectly classified as positive examples when they are in fact negatives(`false positives`).\n",
    "* 139 positive examples were incorrectly classified as negative(N) when in fact they are positives(P) (`false negatives`).\n",
    "* 958 were correctly classified as positive examples(`true positives`)."
   ]
  },
  {
   "cell_type": "code",
   "execution_count": null,
   "id": "bfe10646",
   "metadata": {
    "id": "bfe10646",
    "outputId": "5090bdfd-1f3c-4cf6-9c2e-252ccaded115"
   },
   "outputs": [],
   "source": [
    "class_report(car_train_prepared, tree_best, car_labels_prepared)"
   ]
  },
  {
   "cell_type": "markdown",
   "id": "c62a574a",
   "metadata": {
    "id": "c62a574a"
   },
   "source": [
    "Wow, this is much better. By only setting the class weight to `balanced` and finding the best values of the hyperparameters, we were able to improve our model.\n",
    "\n",
    "If you remember, the negative class has fewer examples than the positive classes. You can see them in `support` in classification report. But our model is able to identify them correctly at 76%, and also is able to identify the positive examples at 97% without overfitting. That is precision.\n",
    "\n",
    "A few notes about Precison/Recall/F1 score:\n",
    "\n",
    "* Precision is the model accuracy on predicting positive examples correctly.\n",
    "* Recall is the ratio of the positive examples that are correctly identified by the model.\n",
    "\n",
    "* F1 score is the harmonic mean of precision and recall.\n",
    "\n",
    "The higher the precision and recall are, the higher the F1 score. But there is a tradeoff between them. Increasing precision will reduce recall, and vice versa. So it's fair to say that it depends on the problem you're trying to solve and the metrics you want to optimize for.\n"
   ]
  },
  {
   "cell_type": "markdown",
   "id": "d96d0b2f",
   "metadata": {
    "id": "d96d0b2f"
   },
   "source": [
    "### Evaluating the model on the test set"
   ]
  },
  {
   "cell_type": "markdown",
   "id": "21d18db2",
   "metadata": {
    "id": "21d18db2"
   },
   "source": [
    "It is only after we have improved the model that we can feed it to the test set. If we try to show the test set to the model while we are still training, we may cause a potential leak thus producing misleading predictions.\n",
    "\n",
    "Also, we will apply the same processing functions that we applied to the training set."
   ]
  },
  {
   "cell_type": "code",
   "execution_count": null,
   "id": "3e4f6abb",
   "metadata": {
    "id": "3e4f6abb"
   },
   "outputs": [],
   "source": [
    "car_test = test_data.drop('binaryClass', axis=1)\n",
    "car_test_labels = test_data['binaryClass']"
   ]
  },
  {
   "cell_type": "code",
   "execution_count": null,
   "id": "18686a6d",
   "metadata": {
    "id": "18686a6d"
   },
   "outputs": [],
   "source": [
    "# Handling the categorical features with the pipeline that we defined early\n",
    "# We don't fit on the test data. Only transform\n",
    "\n",
    "car_test_prepared = pipe.transform(car_test)"
   ]
  },
  {
   "cell_type": "code",
   "execution_count": null,
   "id": "4e320e33",
   "metadata": {
    "id": "4e320e33"
   },
   "outputs": [],
   "source": [
    "# Handle labels too\n",
    "\n",
    "car_test_labels_prepared = label_enc.transform(car_test_labels)"
   ]
  },
  {
   "cell_type": "markdown",
   "id": "f12a3457",
   "metadata": {
    "id": "f12a3457"
   },
   "source": [
    "Now we can make predictions on the test set. We will only have to call the metrics functions we created previously."
   ]
  },
  {
   "cell_type": "code",
   "execution_count": null,
   "id": "b0ead3bd",
   "metadata": {
    "id": "b0ead3bd",
    "outputId": "c060eac0-248b-42db-efa2-e54ee6dd5c25"
   },
   "outputs": [],
   "source": [
    "accuracy(car_test_prepared, tree_best, car_test_labels_prepared)"
   ]
  },
  {
   "cell_type": "code",
   "execution_count": null,
   "id": "8d5414f6",
   "metadata": {
    "id": "8d5414f6",
    "outputId": "5a013425-eb85-4c21-e32e-aa5752b1804f"
   },
   "outputs": [],
   "source": [
    "conf_matrix(car_test_prepared, tree_best, car_test_labels_prepared)"
   ]
  },
  {
   "cell_type": "code",
   "execution_count": null,
   "id": "0c63170a",
   "metadata": {
    "id": "0c63170a",
    "outputId": "8974b1b1-7ccd-44eb-a65c-f8a560e43de5"
   },
   "outputs": [],
   "source": [
    "class_report(car_test_prepared, tree_best, car_test_labels_prepared)"
   ]
  },
  {
   "cell_type": "markdown",
   "id": "2c7eda1f",
   "metadata": {
    "id": "2c7eda1f"
   },
   "source": [
    "The model never saw the test set but as you can see, the results are truly remarkable. The model can generalize well on the test set and that is because we improved it in the right ways."
   ]
  },
  {
   "cell_type": "markdown",
   "id": "c7e86c6d",
   "metadata": {
    "id": "c7e86c6d"
   },
   "source": [
    "This is the end of the notebook. We have learned how to build and how to regularize( or handle overfitting) the decion trees classifier."
   ]
  },
  {
   "cell_type": "markdown",
   "id": "17af5728",
   "metadata": {
    "id": "17af5728"
   },
   "source": [
    "[Back to top](#0)"
   ]
  },
  {
   "cell_type": "code",
   "execution_count": null,
   "id": "620a4d3e",
   "metadata": {
    "id": "620a4d3e"
   },
   "outputs": [],
   "source": []
  }
 ],
 "metadata": {
  "colab": {
   "provenance": []
  },
  "kernelspec": {
   "display_name": "Python 3 (ipykernel)",
   "language": "python",
   "name": "python3"
  },
  "language_info": {
   "codemirror_mode": {
    "name": "ipython",
    "version": 3
   },
   "file_extension": ".py",
   "mimetype": "text/x-python",
   "name": "python",
   "nbconvert_exporter": "python",
   "pygments_lexer": "ipython3",
   "version": "3.9.15"
  }
 },
 "nbformat": 4,
 "nbformat_minor": 5
}
